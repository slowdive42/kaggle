{
 "cells": [
  {
   "cell_type": "code",
   "execution_count": 9,
   "metadata": {},
   "outputs": [
    {
     "data": {
      "text/html": [
       "<style type='text/css'>\n",
       ".datatable table.frame { margin-bottom: 0; }\n",
       ".datatable table.frame thead { border-bottom: none; }\n",
       ".datatable table.frame tr.coltypes td {  color: #FFFFFF;  line-height: 6px;  padding: 0 0.5em;}\n",
       ".datatable .bool    { background: #DDDD99; }\n",
       ".datatable .object  { background: #565656; }\n",
       ".datatable .int     { background: #5D9E5D; }\n",
       ".datatable .float   { background: #4040CC; }\n",
       ".datatable .str     { background: #CC4040; }\n",
       ".datatable .time    { background: #40CC40; }\n",
       ".datatable .row_index {  background: var(--jp-border-color3);  border-right: 1px solid var(--jp-border-color0);  color: var(--jp-ui-font-color3);  font-size: 9px;}\n",
       ".datatable .frame tbody td { text-align: left; }\n",
       ".datatable .frame tr.coltypes .row_index {  background: var(--jp-border-color0);}\n",
       ".datatable th:nth-child(2) { padding-left: 12px; }\n",
       ".datatable .hellipsis {  color: var(--jp-cell-editor-border-color);}\n",
       ".datatable .vellipsis {  background: var(--jp-layout-color0);  color: var(--jp-cell-editor-border-color);}\n",
       ".datatable .na {  color: var(--jp-cell-editor-border-color);  font-size: 80%;}\n",
       ".datatable .sp {  opacity: 0.25;}\n",
       ".datatable .footer { font-size: 9px; }\n",
       ".datatable .frame_dimensions {  background: var(--jp-border-color3);  border-top: 1px solid var(--jp-border-color0);  color: var(--jp-ui-font-color3);  display: inline-block;  opacity: 0.6;  padding: 1px 10px 1px 5px;}\n",
       ".datatable .frame thead tr.colnames {  background-image: url('data:image/png;base64,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');  background-repeat: repeat-x;  background-size: 14px;  height: 28px;}\n",
       "</style>\n"
      ],
      "text/plain": [
       "<IPython.core.display.HTML object>"
      ]
     },
     "metadata": {},
     "output_type": "display_data"
    }
   ],
   "source": [
    "import pandas as pd\n",
    "import numpy as np\n",
    "import re\n",
    "import lightgbm as lgb\n",
    "import keras\n",
    "\n",
    "import warnings\n",
    "warnings.filterwarnings('ignore')\n",
    "\n",
    "from sklearn.preprocessing import LabelEncoder, minmax_scale"
   ]
  },
  {
   "cell_type": "code",
   "execution_count": 2,
   "metadata": {},
   "outputs": [],
   "source": [
    "data = pd.read_csv('data/train.csv')\n",
    "test = pd.read_csv('data/test.csv')\n",
    "test_id = test['PassengerId']"
   ]
  },
  {
   "cell_type": "markdown",
   "metadata": {},
   "source": [
    "## Analyze the Data"
   ]
  },
  {
   "cell_type": "markdown",
   "metadata": {},
   "source": [
    "可以看到cabin的na很多，ticket的意义不大，这两个feature直接丢掉。"
   ]
  },
  {
   "cell_type": "code",
   "execution_count": 12,
   "metadata": {},
   "outputs": [
    {
     "data": {
      "text/html": [
       "<div>\n",
       "<style scoped>\n",
       "    .dataframe tbody tr th:only-of-type {\n",
       "        vertical-align: middle;\n",
       "    }\n",
       "\n",
       "    .dataframe tbody tr th {\n",
       "        vertical-align: top;\n",
       "    }\n",
       "\n",
       "    .dataframe thead th {\n",
       "        text-align: right;\n",
       "    }\n",
       "</style>\n",
       "<table border=\"1\" class=\"dataframe\">\n",
       "  <thead>\n",
       "    <tr style=\"text-align: right;\">\n",
       "      <th></th>\n",
       "      <th>PassengerId</th>\n",
       "      <th>Survived</th>\n",
       "      <th>Pclass</th>\n",
       "      <th>Name</th>\n",
       "      <th>Sex</th>\n",
       "      <th>Age</th>\n",
       "      <th>SibSp</th>\n",
       "      <th>Parch</th>\n",
       "      <th>Ticket</th>\n",
       "      <th>Fare</th>\n",
       "      <th>Cabin</th>\n",
       "      <th>Embarked</th>\n",
       "    </tr>\n",
       "  </thead>\n",
       "  <tbody>\n",
       "    <tr>\n",
       "      <th>0</th>\n",
       "      <td>1</td>\n",
       "      <td>0</td>\n",
       "      <td>3</td>\n",
       "      <td>Braund, Mr. Owen Harris</td>\n",
       "      <td>male</td>\n",
       "      <td>22.0</td>\n",
       "      <td>1</td>\n",
       "      <td>0</td>\n",
       "      <td>A/5 21171</td>\n",
       "      <td>7.2500</td>\n",
       "      <td>NaN</td>\n",
       "      <td>S</td>\n",
       "    </tr>\n",
       "    <tr>\n",
       "      <th>1</th>\n",
       "      <td>2</td>\n",
       "      <td>1</td>\n",
       "      <td>1</td>\n",
       "      <td>Cumings, Mrs. John Bradley (Florence Briggs Th...</td>\n",
       "      <td>female</td>\n",
       "      <td>38.0</td>\n",
       "      <td>1</td>\n",
       "      <td>0</td>\n",
       "      <td>PC 17599</td>\n",
       "      <td>71.2833</td>\n",
       "      <td>C85</td>\n",
       "      <td>C</td>\n",
       "    </tr>\n",
       "    <tr>\n",
       "      <th>2</th>\n",
       "      <td>3</td>\n",
       "      <td>1</td>\n",
       "      <td>3</td>\n",
       "      <td>Heikkinen, Miss. Laina</td>\n",
       "      <td>female</td>\n",
       "      <td>26.0</td>\n",
       "      <td>0</td>\n",
       "      <td>0</td>\n",
       "      <td>STON/O2. 3101282</td>\n",
       "      <td>7.9250</td>\n",
       "      <td>NaN</td>\n",
       "      <td>S</td>\n",
       "    </tr>\n",
       "    <tr>\n",
       "      <th>3</th>\n",
       "      <td>4</td>\n",
       "      <td>1</td>\n",
       "      <td>1</td>\n",
       "      <td>Futrelle, Mrs. Jacques Heath (Lily May Peel)</td>\n",
       "      <td>female</td>\n",
       "      <td>35.0</td>\n",
       "      <td>1</td>\n",
       "      <td>0</td>\n",
       "      <td>113803</td>\n",
       "      <td>53.1000</td>\n",
       "      <td>C123</td>\n",
       "      <td>S</td>\n",
       "    </tr>\n",
       "    <tr>\n",
       "      <th>4</th>\n",
       "      <td>5</td>\n",
       "      <td>0</td>\n",
       "      <td>3</td>\n",
       "      <td>Allen, Mr. William Henry</td>\n",
       "      <td>male</td>\n",
       "      <td>35.0</td>\n",
       "      <td>0</td>\n",
       "      <td>0</td>\n",
       "      <td>373450</td>\n",
       "      <td>8.0500</td>\n",
       "      <td>NaN</td>\n",
       "      <td>S</td>\n",
       "    </tr>\n",
       "  </tbody>\n",
       "</table>\n",
       "</div>"
      ],
      "text/plain": [
       "   PassengerId  Survived  Pclass  \\\n",
       "0            1         0       3   \n",
       "1            2         1       1   \n",
       "2            3         1       3   \n",
       "3            4         1       1   \n",
       "4            5         0       3   \n",
       "\n",
       "                                                Name     Sex   Age  SibSp  \\\n",
       "0                            Braund, Mr. Owen Harris    male  22.0      1   \n",
       "1  Cumings, Mrs. John Bradley (Florence Briggs Th...  female  38.0      1   \n",
       "2                             Heikkinen, Miss. Laina  female  26.0      0   \n",
       "3       Futrelle, Mrs. Jacques Heath (Lily May Peel)  female  35.0      1   \n",
       "4                           Allen, Mr. William Henry    male  35.0      0   \n",
       "\n",
       "   Parch            Ticket     Fare Cabin Embarked  \n",
       "0      0         A/5 21171   7.2500   NaN        S  \n",
       "1      0          PC 17599  71.2833   C85        C  \n",
       "2      0  STON/O2. 3101282   7.9250   NaN        S  \n",
       "3      0            113803  53.1000  C123        S  \n",
       "4      0            373450   8.0500   NaN        S  "
      ]
     },
     "execution_count": 12,
     "metadata": {},
     "output_type": "execute_result"
    }
   ],
   "source": [
    "data.head()"
   ]
  },
  {
   "cell_type": "code",
   "execution_count": 13,
   "metadata": {},
   "outputs": [
    {
     "name": "stdout",
     "output_type": "stream",
     "text": [
      "<class 'pandas.core.frame.DataFrame'>\n",
      "RangeIndex: 891 entries, 0 to 890\n",
      "Data columns (total 12 columns):\n",
      " #   Column       Non-Null Count  Dtype  \n",
      "---  ------       --------------  -----  \n",
      " 0   PassengerId  891 non-null    int64  \n",
      " 1   Survived     891 non-null    int64  \n",
      " 2   Pclass       891 non-null    int64  \n",
      " 3   Name         891 non-null    object \n",
      " 4   Sex          891 non-null    object \n",
      " 5   Age          714 non-null    float64\n",
      " 6   SibSp        891 non-null    int64  \n",
      " 7   Parch        891 non-null    int64  \n",
      " 8   Ticket       891 non-null    object \n",
      " 9   Fare         891 non-null    float64\n",
      " 10  Cabin        204 non-null    object \n",
      " 11  Embarked     889 non-null    object \n",
      "dtypes: float64(2), int64(5), object(5)\n",
      "memory usage: 83.7+ KB\n"
     ]
    }
   ],
   "source": [
    "data.info()"
   ]
  },
  {
   "cell_type": "code",
   "execution_count": 14,
   "metadata": {},
   "outputs": [],
   "source": [
    "data.drop(['Ticket', 'Cabin'], axis=1, inplace=True)"
   ]
  },
  {
   "cell_type": "code",
   "execution_count": 15,
   "metadata": {},
   "outputs": [
    {
     "data": {
      "text/html": [
       "<div>\n",
       "<style scoped>\n",
       "    .dataframe tbody tr th:only-of-type {\n",
       "        vertical-align: middle;\n",
       "    }\n",
       "\n",
       "    .dataframe tbody tr th {\n",
       "        vertical-align: top;\n",
       "    }\n",
       "\n",
       "    .dataframe thead th {\n",
       "        text-align: right;\n",
       "    }\n",
       "</style>\n",
       "<table border=\"1\" class=\"dataframe\">\n",
       "  <thead>\n",
       "    <tr style=\"text-align: right;\">\n",
       "      <th></th>\n",
       "      <th>PassengerId</th>\n",
       "      <th>Survived</th>\n",
       "      <th>Pclass</th>\n",
       "      <th>Name</th>\n",
       "      <th>Sex</th>\n",
       "      <th>Age</th>\n",
       "      <th>SibSp</th>\n",
       "      <th>Parch</th>\n",
       "      <th>Fare</th>\n",
       "      <th>Embarked</th>\n",
       "    </tr>\n",
       "  </thead>\n",
       "  <tbody>\n",
       "    <tr>\n",
       "      <th>0</th>\n",
       "      <td>1</td>\n",
       "      <td>0</td>\n",
       "      <td>3</td>\n",
       "      <td>Braund, Mr. Owen Harris</td>\n",
       "      <td>male</td>\n",
       "      <td>22.0</td>\n",
       "      <td>1</td>\n",
       "      <td>0</td>\n",
       "      <td>7.2500</td>\n",
       "      <td>S</td>\n",
       "    </tr>\n",
       "    <tr>\n",
       "      <th>1</th>\n",
       "      <td>2</td>\n",
       "      <td>1</td>\n",
       "      <td>1</td>\n",
       "      <td>Cumings, Mrs. John Bradley (Florence Briggs Th...</td>\n",
       "      <td>female</td>\n",
       "      <td>38.0</td>\n",
       "      <td>1</td>\n",
       "      <td>0</td>\n",
       "      <td>71.2833</td>\n",
       "      <td>C</td>\n",
       "    </tr>\n",
       "    <tr>\n",
       "      <th>2</th>\n",
       "      <td>3</td>\n",
       "      <td>1</td>\n",
       "      <td>3</td>\n",
       "      <td>Heikkinen, Miss. Laina</td>\n",
       "      <td>female</td>\n",
       "      <td>26.0</td>\n",
       "      <td>0</td>\n",
       "      <td>0</td>\n",
       "      <td>7.9250</td>\n",
       "      <td>S</td>\n",
       "    </tr>\n",
       "    <tr>\n",
       "      <th>3</th>\n",
       "      <td>4</td>\n",
       "      <td>1</td>\n",
       "      <td>1</td>\n",
       "      <td>Futrelle, Mrs. Jacques Heath (Lily May Peel)</td>\n",
       "      <td>female</td>\n",
       "      <td>35.0</td>\n",
       "      <td>1</td>\n",
       "      <td>0</td>\n",
       "      <td>53.1000</td>\n",
       "      <td>S</td>\n",
       "    </tr>\n",
       "    <tr>\n",
       "      <th>4</th>\n",
       "      <td>5</td>\n",
       "      <td>0</td>\n",
       "      <td>3</td>\n",
       "      <td>Allen, Mr. William Henry</td>\n",
       "      <td>male</td>\n",
       "      <td>35.0</td>\n",
       "      <td>0</td>\n",
       "      <td>0</td>\n",
       "      <td>8.0500</td>\n",
       "      <td>S</td>\n",
       "    </tr>\n",
       "  </tbody>\n",
       "</table>\n",
       "</div>"
      ],
      "text/plain": [
       "   PassengerId  Survived  Pclass  \\\n",
       "0            1         0       3   \n",
       "1            2         1       1   \n",
       "2            3         1       3   \n",
       "3            4         1       1   \n",
       "4            5         0       3   \n",
       "\n",
       "                                                Name     Sex   Age  SibSp  \\\n",
       "0                            Braund, Mr. Owen Harris    male  22.0      1   \n",
       "1  Cumings, Mrs. John Bradley (Florence Briggs Th...  female  38.0      1   \n",
       "2                             Heikkinen, Miss. Laina  female  26.0      0   \n",
       "3       Futrelle, Mrs. Jacques Heath (Lily May Peel)  female  35.0      1   \n",
       "4                           Allen, Mr. William Henry    male  35.0      0   \n",
       "\n",
       "   Parch     Fare Embarked  \n",
       "0      0   7.2500        S  \n",
       "1      0  71.2833        C  \n",
       "2      0   7.9250        S  \n",
       "3      0  53.1000        S  \n",
       "4      0   8.0500        S  "
      ]
     },
     "execution_count": 15,
     "metadata": {},
     "output_type": "execute_result"
    }
   ],
   "source": [
    "data.head()"
   ]
  },
  {
   "cell_type": "markdown",
   "metadata": {},
   "source": [
    "name 里面有个title和家族名值得提取，可能会有有用的信息。"
   ]
  },
  {
   "cell_type": "code",
   "execution_count": 16,
   "metadata": {},
   "outputs": [],
   "source": [
    "data['Titles'] = [re.search(r'\\b([A-Za-z]+)\\.', name)[0] for name in data['Name']]\n",
    "data['Family'] = [re.search(r'\\b([A-Za-z]+)\\,', name)[0] for name in data['Name']]"
   ]
  },
  {
   "cell_type": "code",
   "execution_count": 17,
   "metadata": {},
   "outputs": [],
   "source": [
    "#data.drop(['Name'], axis=1, inplace=True)\n",
    "data.drop(['Family', 'Name'], axis=1, inplace=True)"
   ]
  },
  {
   "cell_type": "code",
   "execution_count": 18,
   "metadata": {},
   "outputs": [
    {
     "data": {
      "text/html": [
       "<div>\n",
       "<style scoped>\n",
       "    .dataframe tbody tr th:only-of-type {\n",
       "        vertical-align: middle;\n",
       "    }\n",
       "\n",
       "    .dataframe tbody tr th {\n",
       "        vertical-align: top;\n",
       "    }\n",
       "\n",
       "    .dataframe thead th {\n",
       "        text-align: right;\n",
       "    }\n",
       "</style>\n",
       "<table border=\"1\" class=\"dataframe\">\n",
       "  <thead>\n",
       "    <tr style=\"text-align: right;\">\n",
       "      <th></th>\n",
       "      <th>PassengerId</th>\n",
       "      <th>Survived</th>\n",
       "      <th>Pclass</th>\n",
       "      <th>Sex</th>\n",
       "      <th>Age</th>\n",
       "      <th>SibSp</th>\n",
       "      <th>Parch</th>\n",
       "      <th>Fare</th>\n",
       "      <th>Embarked</th>\n",
       "      <th>Titles</th>\n",
       "    </tr>\n",
       "  </thead>\n",
       "  <tbody>\n",
       "    <tr>\n",
       "      <th>count</th>\n",
       "      <td>891.000000</td>\n",
       "      <td>891.000000</td>\n",
       "      <td>891.000000</td>\n",
       "      <td>891</td>\n",
       "      <td>714.000000</td>\n",
       "      <td>891.000000</td>\n",
       "      <td>891.000000</td>\n",
       "      <td>891.000000</td>\n",
       "      <td>889</td>\n",
       "      <td>891</td>\n",
       "    </tr>\n",
       "    <tr>\n",
       "      <th>unique</th>\n",
       "      <td>NaN</td>\n",
       "      <td>NaN</td>\n",
       "      <td>NaN</td>\n",
       "      <td>2</td>\n",
       "      <td>NaN</td>\n",
       "      <td>NaN</td>\n",
       "      <td>NaN</td>\n",
       "      <td>NaN</td>\n",
       "      <td>3</td>\n",
       "      <td>17</td>\n",
       "    </tr>\n",
       "    <tr>\n",
       "      <th>top</th>\n",
       "      <td>NaN</td>\n",
       "      <td>NaN</td>\n",
       "      <td>NaN</td>\n",
       "      <td>male</td>\n",
       "      <td>NaN</td>\n",
       "      <td>NaN</td>\n",
       "      <td>NaN</td>\n",
       "      <td>NaN</td>\n",
       "      <td>S</td>\n",
       "      <td>Mr.</td>\n",
       "    </tr>\n",
       "    <tr>\n",
       "      <th>freq</th>\n",
       "      <td>NaN</td>\n",
       "      <td>NaN</td>\n",
       "      <td>NaN</td>\n",
       "      <td>577</td>\n",
       "      <td>NaN</td>\n",
       "      <td>NaN</td>\n",
       "      <td>NaN</td>\n",
       "      <td>NaN</td>\n",
       "      <td>644</td>\n",
       "      <td>517</td>\n",
       "    </tr>\n",
       "    <tr>\n",
       "      <th>mean</th>\n",
       "      <td>446.000000</td>\n",
       "      <td>0.383838</td>\n",
       "      <td>2.308642</td>\n",
       "      <td>NaN</td>\n",
       "      <td>29.699118</td>\n",
       "      <td>0.523008</td>\n",
       "      <td>0.381594</td>\n",
       "      <td>32.204208</td>\n",
       "      <td>NaN</td>\n",
       "      <td>NaN</td>\n",
       "    </tr>\n",
       "    <tr>\n",
       "      <th>std</th>\n",
       "      <td>257.353842</td>\n",
       "      <td>0.486592</td>\n",
       "      <td>0.836071</td>\n",
       "      <td>NaN</td>\n",
       "      <td>14.526497</td>\n",
       "      <td>1.102743</td>\n",
       "      <td>0.806057</td>\n",
       "      <td>49.693429</td>\n",
       "      <td>NaN</td>\n",
       "      <td>NaN</td>\n",
       "    </tr>\n",
       "    <tr>\n",
       "      <th>min</th>\n",
       "      <td>1.000000</td>\n",
       "      <td>0.000000</td>\n",
       "      <td>1.000000</td>\n",
       "      <td>NaN</td>\n",
       "      <td>0.420000</td>\n",
       "      <td>0.000000</td>\n",
       "      <td>0.000000</td>\n",
       "      <td>0.000000</td>\n",
       "      <td>NaN</td>\n",
       "      <td>NaN</td>\n",
       "    </tr>\n",
       "    <tr>\n",
       "      <th>25%</th>\n",
       "      <td>223.500000</td>\n",
       "      <td>0.000000</td>\n",
       "      <td>2.000000</td>\n",
       "      <td>NaN</td>\n",
       "      <td>20.125000</td>\n",
       "      <td>0.000000</td>\n",
       "      <td>0.000000</td>\n",
       "      <td>7.910400</td>\n",
       "      <td>NaN</td>\n",
       "      <td>NaN</td>\n",
       "    </tr>\n",
       "    <tr>\n",
       "      <th>50%</th>\n",
       "      <td>446.000000</td>\n",
       "      <td>0.000000</td>\n",
       "      <td>3.000000</td>\n",
       "      <td>NaN</td>\n",
       "      <td>28.000000</td>\n",
       "      <td>0.000000</td>\n",
       "      <td>0.000000</td>\n",
       "      <td>14.454200</td>\n",
       "      <td>NaN</td>\n",
       "      <td>NaN</td>\n",
       "    </tr>\n",
       "    <tr>\n",
       "      <th>75%</th>\n",
       "      <td>668.500000</td>\n",
       "      <td>1.000000</td>\n",
       "      <td>3.000000</td>\n",
       "      <td>NaN</td>\n",
       "      <td>38.000000</td>\n",
       "      <td>1.000000</td>\n",
       "      <td>0.000000</td>\n",
       "      <td>31.000000</td>\n",
       "      <td>NaN</td>\n",
       "      <td>NaN</td>\n",
       "    </tr>\n",
       "    <tr>\n",
       "      <th>max</th>\n",
       "      <td>891.000000</td>\n",
       "      <td>1.000000</td>\n",
       "      <td>3.000000</td>\n",
       "      <td>NaN</td>\n",
       "      <td>80.000000</td>\n",
       "      <td>8.000000</td>\n",
       "      <td>6.000000</td>\n",
       "      <td>512.329200</td>\n",
       "      <td>NaN</td>\n",
       "      <td>NaN</td>\n",
       "    </tr>\n",
       "  </tbody>\n",
       "</table>\n",
       "</div>"
      ],
      "text/plain": [
       "        PassengerId    Survived      Pclass   Sex         Age       SibSp  \\\n",
       "count    891.000000  891.000000  891.000000   891  714.000000  891.000000   \n",
       "unique          NaN         NaN         NaN     2         NaN         NaN   \n",
       "top             NaN         NaN         NaN  male         NaN         NaN   \n",
       "freq            NaN         NaN         NaN   577         NaN         NaN   \n",
       "mean     446.000000    0.383838    2.308642   NaN   29.699118    0.523008   \n",
       "std      257.353842    0.486592    0.836071   NaN   14.526497    1.102743   \n",
       "min        1.000000    0.000000    1.000000   NaN    0.420000    0.000000   \n",
       "25%      223.500000    0.000000    2.000000   NaN   20.125000    0.000000   \n",
       "50%      446.000000    0.000000    3.000000   NaN   28.000000    0.000000   \n",
       "75%      668.500000    1.000000    3.000000   NaN   38.000000    1.000000   \n",
       "max      891.000000    1.000000    3.000000   NaN   80.000000    8.000000   \n",
       "\n",
       "             Parch        Fare Embarked Titles  \n",
       "count   891.000000  891.000000      889    891  \n",
       "unique         NaN         NaN        3     17  \n",
       "top            NaN         NaN        S    Mr.  \n",
       "freq           NaN         NaN      644    517  \n",
       "mean      0.381594   32.204208      NaN    NaN  \n",
       "std       0.806057   49.693429      NaN    NaN  \n",
       "min       0.000000    0.000000      NaN    NaN  \n",
       "25%       0.000000    7.910400      NaN    NaN  \n",
       "50%       0.000000   14.454200      NaN    NaN  \n",
       "75%       0.000000   31.000000      NaN    NaN  \n",
       "max       6.000000  512.329200      NaN    NaN  "
      ]
     },
     "execution_count": 18,
     "metadata": {},
     "output_type": "execute_result"
    }
   ],
   "source": [
    "data.describe(include='all')"
   ]
  },
  {
   "cell_type": "markdown",
   "metadata": {},
   "source": [
    "我们的特征已经处理好了，里面还有些缺失值，先不管\n",
    "编码一下字符特征"
   ]
  },
  {
   "cell_type": "code",
   "execution_count": 5,
   "metadata": {},
   "outputs": [],
   "source": [
    "from sklearn.preprocessing import LabelEncoder, minmax_scale\n",
    "\n",
    "le = LabelEncoder()"
   ]
  },
  {
   "cell_type": "code",
   "execution_count": null,
   "metadata": {},
   "outputs": [],
   "source": [
    "for str_feature in ['Titles', 'Sex', 'Embarked']:\n",
    "    data[str_feature] = le.fit_transform(data[str_feature])"
   ]
  },
  {
   "cell_type": "code",
   "execution_count": 20,
   "metadata": {},
   "outputs": [
    {
     "data": {
      "text/html": [
       "<div>\n",
       "<style scoped>\n",
       "    .dataframe tbody tr th:only-of-type {\n",
       "        vertical-align: middle;\n",
       "    }\n",
       "\n",
       "    .dataframe tbody tr th {\n",
       "        vertical-align: top;\n",
       "    }\n",
       "\n",
       "    .dataframe thead th {\n",
       "        text-align: right;\n",
       "    }\n",
       "</style>\n",
       "<table border=\"1\" class=\"dataframe\">\n",
       "  <thead>\n",
       "    <tr style=\"text-align: right;\">\n",
       "      <th></th>\n",
       "      <th>PassengerId</th>\n",
       "      <th>Survived</th>\n",
       "      <th>Pclass</th>\n",
       "      <th>Sex</th>\n",
       "      <th>Age</th>\n",
       "      <th>SibSp</th>\n",
       "      <th>Parch</th>\n",
       "      <th>Fare</th>\n",
       "      <th>Embarked</th>\n",
       "      <th>Titles</th>\n",
       "    </tr>\n",
       "  </thead>\n",
       "  <tbody>\n",
       "    <tr>\n",
       "      <th>0</th>\n",
       "      <td>1</td>\n",
       "      <td>0</td>\n",
       "      <td>3</td>\n",
       "      <td>1</td>\n",
       "      <td>22.0</td>\n",
       "      <td>1</td>\n",
       "      <td>0</td>\n",
       "      <td>7.2500</td>\n",
       "      <td>2</td>\n",
       "      <td>12</td>\n",
       "    </tr>\n",
       "    <tr>\n",
       "      <th>1</th>\n",
       "      <td>2</td>\n",
       "      <td>1</td>\n",
       "      <td>1</td>\n",
       "      <td>0</td>\n",
       "      <td>38.0</td>\n",
       "      <td>1</td>\n",
       "      <td>0</td>\n",
       "      <td>71.2833</td>\n",
       "      <td>0</td>\n",
       "      <td>13</td>\n",
       "    </tr>\n",
       "    <tr>\n",
       "      <th>2</th>\n",
       "      <td>3</td>\n",
       "      <td>1</td>\n",
       "      <td>3</td>\n",
       "      <td>0</td>\n",
       "      <td>26.0</td>\n",
       "      <td>0</td>\n",
       "      <td>0</td>\n",
       "      <td>7.9250</td>\n",
       "      <td>2</td>\n",
       "      <td>9</td>\n",
       "    </tr>\n",
       "    <tr>\n",
       "      <th>3</th>\n",
       "      <td>4</td>\n",
       "      <td>1</td>\n",
       "      <td>1</td>\n",
       "      <td>0</td>\n",
       "      <td>35.0</td>\n",
       "      <td>1</td>\n",
       "      <td>0</td>\n",
       "      <td>53.1000</td>\n",
       "      <td>2</td>\n",
       "      <td>13</td>\n",
       "    </tr>\n",
       "    <tr>\n",
       "      <th>4</th>\n",
       "      <td>5</td>\n",
       "      <td>0</td>\n",
       "      <td>3</td>\n",
       "      <td>1</td>\n",
       "      <td>35.0</td>\n",
       "      <td>0</td>\n",
       "      <td>0</td>\n",
       "      <td>8.0500</td>\n",
       "      <td>2</td>\n",
       "      <td>12</td>\n",
       "    </tr>\n",
       "  </tbody>\n",
       "</table>\n",
       "</div>"
      ],
      "text/plain": [
       "   PassengerId  Survived  Pclass  Sex   Age  SibSp  Parch     Fare  Embarked  \\\n",
       "0            1         0       3    1  22.0      1      0   7.2500         2   \n",
       "1            2         1       1    0  38.0      1      0  71.2833         0   \n",
       "2            3         1       3    0  26.0      0      0   7.9250         2   \n",
       "3            4         1       1    0  35.0      1      0  53.1000         2   \n",
       "4            5         0       3    1  35.0      0      0   8.0500         2   \n",
       "\n",
       "   Titles  \n",
       "0      12  \n",
       "1      13  \n",
       "2       9  \n",
       "3      13  \n",
       "4      12  "
      ]
     },
     "execution_count": 20,
     "metadata": {},
     "output_type": "execute_result"
    }
   ],
   "source": [
    "data.head()"
   ]
  },
  {
   "cell_type": "code",
   "execution_count": 10,
   "metadata": {},
   "outputs": [],
   "source": [
    "def data_preprocessing(data):\n",
    "    data.drop(['Ticket', 'Cabin'], axis=1, inplace=True)\n",
    "    data['Titles'] = [re.search(r'\\b([A-Za-z]+)\\.', name)[0] for name in data['Name']]\n",
    "    data.drop(['Name'], axis=1, inplace=True)\n",
    "    \n",
    "    for str_feature in ['Titles', 'Sex', 'Embarked']:\n",
    "        data[str_feature] = le.fit_transform(data[str_feature])\n",
    "        \n",
    "    data.drop(['PassengerId', 'Titles'], axis=1, inplace=True)\n",
    "    data['Age'].fillna(data['Age'].median(), inplace=True)\n",
    "    data['Age'] = minmax_scale(data['Age'])\n",
    "    data['Fare'] = minmax_scale(data['Fare'])\n",
    "    \n",
    "    return data"
   ]
  },
  {
   "cell_type": "markdown",
   "metadata": {},
   "source": [
    "# Train test split"
   ]
  },
  {
   "cell_type": "code",
   "execution_count": 257,
   "metadata": {},
   "outputs": [],
   "source": [
    "from sklearn.model_selection import train_test_split\n",
    "data = pd.read_csv('data/train.csv')\n",
    "test = pd.read_csv('data/test.csv')\n",
    "test_id = test['PassengerId']\n",
    "\n",
    "test = data_preprocessing(test)\n",
    "data = data_preprocessing(data)\n",
    "\n",
    "\n",
    "data_train, data_test = train_test_split(data, test_size=0.2, shuffle=True, random_state=77)\n",
    "\n",
    "x = data.drop(['Survived'], axis=1)\n",
    "y = data['Survived']\n",
    "\n",
    "x_train, x_test = x.loc[data_train.index], x.loc[data_test.index]\n",
    "y_train, y_test = y.loc[data_train.index], y.loc[data_test.index]"
   ]
  },
  {
   "cell_type": "markdown",
   "metadata": {},
   "source": [
    "# Model Training"
   ]
  },
  {
   "cell_type": "markdown",
   "metadata": {},
   "source": [
    "## LGBM"
   ]
  },
  {
   "cell_type": "code",
   "execution_count": 71,
   "metadata": {},
   "outputs": [
    {
     "data": {
      "text/html": [
       "<style>#sk-container-id-7 {color: black;}#sk-container-id-7 pre{padding: 0;}#sk-container-id-7 div.sk-toggleable {background-color: white;}#sk-container-id-7 label.sk-toggleable__label {cursor: pointer;display: block;width: 100%;margin-bottom: 0;padding: 0.3em;box-sizing: border-box;text-align: center;}#sk-container-id-7 label.sk-toggleable__label-arrow:before {content: \"▸\";float: left;margin-right: 0.25em;color: #696969;}#sk-container-id-7 label.sk-toggleable__label-arrow:hover:before {color: black;}#sk-container-id-7 div.sk-estimator:hover label.sk-toggleable__label-arrow:before {color: black;}#sk-container-id-7 div.sk-toggleable__content {max-height: 0;max-width: 0;overflow: hidden;text-align: left;background-color: #f0f8ff;}#sk-container-id-7 div.sk-toggleable__content pre {margin: 0.2em;color: black;border-radius: 0.25em;background-color: #f0f8ff;}#sk-container-id-7 input.sk-toggleable__control:checked~div.sk-toggleable__content {max-height: 200px;max-width: 100%;overflow: auto;}#sk-container-id-7 input.sk-toggleable__control:checked~label.sk-toggleable__label-arrow:before {content: \"▾\";}#sk-container-id-7 div.sk-estimator input.sk-toggleable__control:checked~label.sk-toggleable__label {background-color: #d4ebff;}#sk-container-id-7 div.sk-label input.sk-toggleable__control:checked~label.sk-toggleable__label {background-color: #d4ebff;}#sk-container-id-7 input.sk-hidden--visually {border: 0;clip: rect(1px 1px 1px 1px);clip: rect(1px, 1px, 1px, 1px);height: 1px;margin: -1px;overflow: hidden;padding: 0;position: absolute;width: 1px;}#sk-container-id-7 div.sk-estimator {font-family: monospace;background-color: #f0f8ff;border: 1px dotted black;border-radius: 0.25em;box-sizing: border-box;margin-bottom: 0.5em;}#sk-container-id-7 div.sk-estimator:hover {background-color: #d4ebff;}#sk-container-id-7 div.sk-parallel-item::after {content: \"\";width: 100%;border-bottom: 1px solid gray;flex-grow: 1;}#sk-container-id-7 div.sk-label:hover label.sk-toggleable__label {background-color: #d4ebff;}#sk-container-id-7 div.sk-serial::before {content: \"\";position: absolute;border-left: 1px solid gray;box-sizing: border-box;top: 0;bottom: 0;left: 50%;z-index: 0;}#sk-container-id-7 div.sk-serial {display: flex;flex-direction: column;align-items: center;background-color: white;padding-right: 0.2em;padding-left: 0.2em;position: relative;}#sk-container-id-7 div.sk-item {position: relative;z-index: 1;}#sk-container-id-7 div.sk-parallel {display: flex;align-items: stretch;justify-content: center;background-color: white;position: relative;}#sk-container-id-7 div.sk-item::before, #sk-container-id-7 div.sk-parallel-item::before {content: \"\";position: absolute;border-left: 1px solid gray;box-sizing: border-box;top: 0;bottom: 0;left: 50%;z-index: -1;}#sk-container-id-7 div.sk-parallel-item {display: flex;flex-direction: column;z-index: 1;position: relative;background-color: white;}#sk-container-id-7 div.sk-parallel-item:first-child::after {align-self: flex-end;width: 50%;}#sk-container-id-7 div.sk-parallel-item:last-child::after {align-self: flex-start;width: 50%;}#sk-container-id-7 div.sk-parallel-item:only-child::after {width: 0;}#sk-container-id-7 div.sk-dashed-wrapped {border: 1px dashed gray;margin: 0 0.4em 0.5em 0.4em;box-sizing: border-box;padding-bottom: 0.4em;background-color: white;}#sk-container-id-7 div.sk-label label {font-family: monospace;font-weight: bold;display: inline-block;line-height: 1.2em;}#sk-container-id-7 div.sk-label-container {text-align: center;}#sk-container-id-7 div.sk-container {/* jupyter's `normalize.less` sets `[hidden] { display: none; }` but bootstrap.min.css set `[hidden] { display: none !important; }` so we also need the `!important` here to be able to override the default hidden behavior on the sphinx rendered scikit-learn.org. See: https://github.com/scikit-learn/scikit-learn/issues/21755 */display: inline-block !important;position: relative;}#sk-container-id-7 div.sk-text-repr-fallback {display: none;}</style><div id=\"sk-container-id-7\" class=\"sk-top-container\"><div class=\"sk-text-repr-fallback\"><pre>LGBMClassifier(colsample_bytree=0.7, learning_rate=0.07, min_child_samples=30,\n",
       "               random_state=3333, reg_alpha=0, reg_lambda=0, subsample=0.7)</pre><b>In a Jupyter environment, please rerun this cell to show the HTML representation or trust the notebook. <br />On GitHub, the HTML representation is unable to render, please try loading this page with nbviewer.org.</b></div><div class=\"sk-container\" hidden><div class=\"sk-item\"><div class=\"sk-estimator sk-toggleable\"><input class=\"sk-toggleable__control sk-hidden--visually\" id=\"sk-estimator-id-11\" type=\"checkbox\" checked><label for=\"sk-estimator-id-11\" class=\"sk-toggleable__label sk-toggleable__label-arrow\">LGBMClassifier</label><div class=\"sk-toggleable__content\"><pre>LGBMClassifier(colsample_bytree=0.7, learning_rate=0.07, min_child_samples=30,\n",
       "               random_state=3333, reg_alpha=0, reg_lambda=0, subsample=0.7)</pre></div></div></div></div></div>"
      ],
      "text/plain": [
       "LGBMClassifier(colsample_bytree=0.7, learning_rate=0.07, min_child_samples=30,\n",
       "               random_state=3333, reg_alpha=0, reg_lambda=0, subsample=0.7)"
      ]
     },
     "execution_count": 71,
     "metadata": {},
     "output_type": "execute_result"
    }
   ],
   "source": [
    "params = cv.best_params_\n",
    "lgbm_clf = lgb.LGBMClassifier(**params, random_state=3333)\n",
    "    \n",
    "lgbm_callbacks = [\n",
    "    lgb.early_stopping(20, verbose=1),\n",
    "]\n",
    "lgbm_clf.fit(x_train, y_train)"
   ]
  },
  {
   "cell_type": "code",
   "execution_count": 72,
   "metadata": {},
   "outputs": [
    {
     "data": {
      "text/plain": [
       "(0.8960674157303371, 0.8268156424581006)"
      ]
     },
     "execution_count": 72,
     "metadata": {},
     "output_type": "execute_result"
    }
   ],
   "source": [
    "from sklearn.metrics import accuracy_score, roc_auc_score\n",
    "\n",
    "y_pred = lgbm_clf.predict_proba(x_test)[:,1]>0.5\n",
    "accuracy_score(y_train, lgbm_clf.predict_proba(x_train)[:,1]>0.5), accuracy_score(y_test, y_pred)"
   ]
  },
  {
   "cell_type": "code",
   "execution_count": 73,
   "metadata": {},
   "outputs": [
    {
     "data": {
      "text/plain": [
       "(0.8810900564886898, 0.8077733860342556)"
      ]
     },
     "execution_count": 73,
     "metadata": {},
     "output_type": "execute_result"
    }
   ],
   "source": [
    "roc_auc_score(y_train, lgbm_clf.predict(x_train)), roc_auc_score(y_test, y_pred)"
   ]
  },
  {
   "cell_type": "code",
   "execution_count": 74,
   "metadata": {},
   "outputs": [
    {
     "name": "stdout",
     "output_type": "stream",
     "text": [
      "Fitting 3 folds for each of 810 candidates, totalling 2430 fits\n"
     ]
    },
    {
     "data": {
      "text/html": [
       "<style>#sk-container-id-8 {color: black;}#sk-container-id-8 pre{padding: 0;}#sk-container-id-8 div.sk-toggleable {background-color: white;}#sk-container-id-8 label.sk-toggleable__label {cursor: pointer;display: block;width: 100%;margin-bottom: 0;padding: 0.3em;box-sizing: border-box;text-align: center;}#sk-container-id-8 label.sk-toggleable__label-arrow:before {content: \"▸\";float: left;margin-right: 0.25em;color: #696969;}#sk-container-id-8 label.sk-toggleable__label-arrow:hover:before {color: black;}#sk-container-id-8 div.sk-estimator:hover label.sk-toggleable__label-arrow:before {color: black;}#sk-container-id-8 div.sk-toggleable__content {max-height: 0;max-width: 0;overflow: hidden;text-align: left;background-color: #f0f8ff;}#sk-container-id-8 div.sk-toggleable__content pre {margin: 0.2em;color: black;border-radius: 0.25em;background-color: #f0f8ff;}#sk-container-id-8 input.sk-toggleable__control:checked~div.sk-toggleable__content {max-height: 200px;max-width: 100%;overflow: auto;}#sk-container-id-8 input.sk-toggleable__control:checked~label.sk-toggleable__label-arrow:before {content: \"▾\";}#sk-container-id-8 div.sk-estimator input.sk-toggleable__control:checked~label.sk-toggleable__label {background-color: #d4ebff;}#sk-container-id-8 div.sk-label input.sk-toggleable__control:checked~label.sk-toggleable__label {background-color: #d4ebff;}#sk-container-id-8 input.sk-hidden--visually {border: 0;clip: rect(1px 1px 1px 1px);clip: rect(1px, 1px, 1px, 1px);height: 1px;margin: -1px;overflow: hidden;padding: 0;position: absolute;width: 1px;}#sk-container-id-8 div.sk-estimator {font-family: monospace;background-color: #f0f8ff;border: 1px dotted black;border-radius: 0.25em;box-sizing: border-box;margin-bottom: 0.5em;}#sk-container-id-8 div.sk-estimator:hover {background-color: #d4ebff;}#sk-container-id-8 div.sk-parallel-item::after {content: \"\";width: 100%;border-bottom: 1px solid gray;flex-grow: 1;}#sk-container-id-8 div.sk-label:hover label.sk-toggleable__label {background-color: #d4ebff;}#sk-container-id-8 div.sk-serial::before {content: \"\";position: absolute;border-left: 1px solid gray;box-sizing: border-box;top: 0;bottom: 0;left: 50%;z-index: 0;}#sk-container-id-8 div.sk-serial {display: flex;flex-direction: column;align-items: center;background-color: white;padding-right: 0.2em;padding-left: 0.2em;position: relative;}#sk-container-id-8 div.sk-item {position: relative;z-index: 1;}#sk-container-id-8 div.sk-parallel {display: flex;align-items: stretch;justify-content: center;background-color: white;position: relative;}#sk-container-id-8 div.sk-item::before, #sk-container-id-8 div.sk-parallel-item::before {content: \"\";position: absolute;border-left: 1px solid gray;box-sizing: border-box;top: 0;bottom: 0;left: 50%;z-index: -1;}#sk-container-id-8 div.sk-parallel-item {display: flex;flex-direction: column;z-index: 1;position: relative;background-color: white;}#sk-container-id-8 div.sk-parallel-item:first-child::after {align-self: flex-end;width: 50%;}#sk-container-id-8 div.sk-parallel-item:last-child::after {align-self: flex-start;width: 50%;}#sk-container-id-8 div.sk-parallel-item:only-child::after {width: 0;}#sk-container-id-8 div.sk-dashed-wrapped {border: 1px dashed gray;margin: 0 0.4em 0.5em 0.4em;box-sizing: border-box;padding-bottom: 0.4em;background-color: white;}#sk-container-id-8 div.sk-label label {font-family: monospace;font-weight: bold;display: inline-block;line-height: 1.2em;}#sk-container-id-8 div.sk-label-container {text-align: center;}#sk-container-id-8 div.sk-container {/* jupyter's `normalize.less` sets `[hidden] { display: none; }` but bootstrap.min.css set `[hidden] { display: none !important; }` so we also need the `!important` here to be able to override the default hidden behavior on the sphinx rendered scikit-learn.org. See: https://github.com/scikit-learn/scikit-learn/issues/21755 */display: inline-block !important;position: relative;}#sk-container-id-8 div.sk-text-repr-fallback {display: none;}</style><div id=\"sk-container-id-8\" class=\"sk-top-container\"><div class=\"sk-text-repr-fallback\"><pre>GridSearchCV(cv=3, estimator=LGBMClassifier(), n_jobs=-1,\n",
       "             param_grid={&#x27;colsample_bytree&#x27;: [0.6, 0.7, 0.8],\n",
       "                         &#x27;learning_rate&#x27;: [0.03, 0.05, 0.07],\n",
       "                         &#x27;min_child_samples&#x27;: [30, 50, 70],\n",
       "                         &#x27;reg_alpha&#x27;: [0, 0, 3, 0, 7],\n",
       "                         &#x27;reg_lambda&#x27;: [0, 0.3, 0.7], &#x27;subsample&#x27;: [0.7, 0.9]},\n",
       "             scoring=&#x27;roc_auc&#x27;, verbose=1)</pre><b>In a Jupyter environment, please rerun this cell to show the HTML representation or trust the notebook. <br />On GitHub, the HTML representation is unable to render, please try loading this page with nbviewer.org.</b></div><div class=\"sk-container\" hidden><div class=\"sk-item sk-dashed-wrapped\"><div class=\"sk-label-container\"><div class=\"sk-label sk-toggleable\"><input class=\"sk-toggleable__control sk-hidden--visually\" id=\"sk-estimator-id-12\" type=\"checkbox\" ><label for=\"sk-estimator-id-12\" class=\"sk-toggleable__label sk-toggleable__label-arrow\">GridSearchCV</label><div class=\"sk-toggleable__content\"><pre>GridSearchCV(cv=3, estimator=LGBMClassifier(), n_jobs=-1,\n",
       "             param_grid={&#x27;colsample_bytree&#x27;: [0.6, 0.7, 0.8],\n",
       "                         &#x27;learning_rate&#x27;: [0.03, 0.05, 0.07],\n",
       "                         &#x27;min_child_samples&#x27;: [30, 50, 70],\n",
       "                         &#x27;reg_alpha&#x27;: [0, 0, 3, 0, 7],\n",
       "                         &#x27;reg_lambda&#x27;: [0, 0.3, 0.7], &#x27;subsample&#x27;: [0.7, 0.9]},\n",
       "             scoring=&#x27;roc_auc&#x27;, verbose=1)</pre></div></div></div><div class=\"sk-parallel\"><div class=\"sk-parallel-item\"><div class=\"sk-item\"><div class=\"sk-label-container\"><div class=\"sk-label sk-toggleable\"><input class=\"sk-toggleable__control sk-hidden--visually\" id=\"sk-estimator-id-13\" type=\"checkbox\" ><label for=\"sk-estimator-id-13\" class=\"sk-toggleable__label sk-toggleable__label-arrow\">estimator: LGBMClassifier</label><div class=\"sk-toggleable__content\"><pre>LGBMClassifier()</pre></div></div></div><div class=\"sk-serial\"><div class=\"sk-item\"><div class=\"sk-estimator sk-toggleable\"><input class=\"sk-toggleable__control sk-hidden--visually\" id=\"sk-estimator-id-14\" type=\"checkbox\" ><label for=\"sk-estimator-id-14\" class=\"sk-toggleable__label sk-toggleable__label-arrow\">LGBMClassifier</label><div class=\"sk-toggleable__content\"><pre>LGBMClassifier()</pre></div></div></div></div></div></div></div></div></div></div>"
      ],
      "text/plain": [
       "GridSearchCV(cv=3, estimator=LGBMClassifier(), n_jobs=-1,\n",
       "             param_grid={'colsample_bytree': [0.6, 0.7, 0.8],\n",
       "                         'learning_rate': [0.03, 0.05, 0.07],\n",
       "                         'min_child_samples': [30, 50, 70],\n",
       "                         'reg_alpha': [0, 0, 3, 0, 7],\n",
       "                         'reg_lambda': [0, 0.3, 0.7], 'subsample': [0.7, 0.9]},\n",
       "             scoring='roc_auc', verbose=1)"
      ]
     },
     "execution_count": 74,
     "metadata": {},
     "output_type": "execute_result"
    }
   ],
   "source": [
    "## grid search\n",
    "from sklearn.model_selection import GridSearchCV\n",
    "\n",
    "param_grid = {\n",
    "    'learning_rate': [0.03,0.05,0.07],\n",
    "    'min_child_samples': [30,50,70],\n",
    "    'subsample': [0.7, 0.9],\n",
    "    'colsample_bytree': [0.6, 0.7,0.8],\n",
    "    'reg_alpha': [0, 0,3,0,7],\n",
    "    'reg_lambda': [0, 0.3,0.7],\n",
    "}\n",
    "\n",
    "# 创建GridSearchCV对象\n",
    "cv = GridSearchCV(\n",
    "    estimator=lgb.LGBMClassifier(),\n",
    "    param_grid=param_grid,\n",
    "    scoring='roc_auc',  # 选择适当的评估指标\n",
    "    cv=3,  # 选择适当的交叉验证折数\n",
    "    n_jobs=-1,\n",
    "    verbose=1,\n",
    ")\n",
    "\n",
    "# 在训练集上拟合GridSearchCV对象\n",
    "cv.fit(x_train, y_train)"
   ]
  },
  {
   "cell_type": "code",
   "execution_count": 75,
   "metadata": {},
   "outputs": [
    {
     "data": {
      "text/plain": [
       "({'colsample_bytree': 0.7,\n",
       "  'learning_rate': 0.05,\n",
       "  'min_child_samples': 30,\n",
       "  'reg_alpha': 0,\n",
       "  'reg_lambda': 0.3,\n",
       "  'subsample': 0.7},\n",
       " 0.877610841616992)"
      ]
     },
     "execution_count": 75,
     "metadata": {},
     "output_type": "execute_result"
    }
   ],
   "source": [
    "cv.best_params_, cv.best_score_"
   ]
  },
  {
   "cell_type": "markdown",
   "metadata": {},
   "source": [
    "## NN"
   ]
  },
  {
   "cell_type": "code",
   "execution_count": 272,
   "metadata": {},
   "outputs": [
    {
     "data": {
      "text/plain": [
       "('tensorflow', '3.0.0')"
      ]
     },
     "execution_count": 272,
     "metadata": {},
     "output_type": "execute_result"
    }
   ],
   "source": [
    "import tensorflow as tf\n",
    "import keras\n",
    "\n",
    "\n",
    "seed = 42\n",
    "keras.utils.set_random_seed(seed)\n",
    "keras.backend.backend(), keras.__version__"
   ]
  },
  {
   "cell_type": "code",
   "execution_count": 273,
   "metadata": {},
   "outputs": [
    {
     "data": {
      "text/html": [
       "<pre style=\"white-space:pre;overflow-x:auto;line-height:normal;font-family:Menlo,'DejaVu Sans Mono',consolas,'Courier New',monospace\"><span style=\"font-weight: bold\">Model: \"sequential_14\"</span>\n",
       "</pre>\n"
      ],
      "text/plain": [
       "\u001b[1mModel: \"sequential_14\"\u001b[0m\n"
      ]
     },
     "metadata": {},
     "output_type": "display_data"
    },
    {
     "data": {
      "text/html": [
       "<pre style=\"white-space:pre;overflow-x:auto;line-height:normal;font-family:Menlo,'DejaVu Sans Mono',consolas,'Courier New',monospace\">┏━━━━━━━━━━━━━━━━━━━━━━━━━━━━━━━━━┳━━━━━━━━━━━━━━━━━━━━━━━━━━━┳━━━━━━━━━━━━┓\n",
       "┃<span style=\"font-weight: bold\"> Layer (type)                    </span>┃<span style=\"font-weight: bold\"> Output Shape              </span>┃<span style=\"font-weight: bold\">    Param # </span>┃\n",
       "┡━━━━━━━━━━━━━━━━━━━━━━━━━━━━━━━━━╇━━━━━━━━━━━━━━━━━━━━━━━━━━━╇━━━━━━━━━━━━┩\n",
       "│ dense_42 (<span style=\"color: #0087ff; text-decoration-color: #0087ff\">Dense</span>)                │ (<span style=\"color: #00d7ff; text-decoration-color: #00d7ff\">None</span>, <span style=\"color: #00af00; text-decoration-color: #00af00\">12</span>)                │         <span style=\"color: #00af00; text-decoration-color: #00af00\">96</span> │\n",
       "├─────────────────────────────────┼───────────────────────────┼────────────┤\n",
       "│ dropout_14 (<span style=\"color: #0087ff; text-decoration-color: #0087ff\">Dropout</span>)            │ (<span style=\"color: #00d7ff; text-decoration-color: #00d7ff\">None</span>, <span style=\"color: #00af00; text-decoration-color: #00af00\">12</span>)                │          <span style=\"color: #00af00; text-decoration-color: #00af00\">0</span> │\n",
       "├─────────────────────────────────┼───────────────────────────┼────────────┤\n",
       "│ dense_43 (<span style=\"color: #0087ff; text-decoration-color: #0087ff\">Dense</span>)                │ (<span style=\"color: #00d7ff; text-decoration-color: #00d7ff\">None</span>, <span style=\"color: #00af00; text-decoration-color: #00af00\">6</span>)                 │         <span style=\"color: #00af00; text-decoration-color: #00af00\">78</span> │\n",
       "├─────────────────────────────────┼───────────────────────────┼────────────┤\n",
       "│ dense_44 (<span style=\"color: #0087ff; text-decoration-color: #0087ff\">Dense</span>)                │ (<span style=\"color: #00d7ff; text-decoration-color: #00d7ff\">None</span>, <span style=\"color: #00af00; text-decoration-color: #00af00\">1</span>)                 │          <span style=\"color: #00af00; text-decoration-color: #00af00\">7</span> │\n",
       "└─────────────────────────────────┴───────────────────────────┴────────────┘\n",
       "</pre>\n"
      ],
      "text/plain": [
       "┏━━━━━━━━━━━━━━━━━━━━━━━━━━━━━━━━━┳━━━━━━━━━━━━━━━━━━━━━━━━━━━┳━━━━━━━━━━━━┓\n",
       "┃\u001b[1m \u001b[0m\u001b[1mLayer (type)                   \u001b[0m\u001b[1m \u001b[0m┃\u001b[1m \u001b[0m\u001b[1mOutput Shape             \u001b[0m\u001b[1m \u001b[0m┃\u001b[1m \u001b[0m\u001b[1m   Param #\u001b[0m\u001b[1m \u001b[0m┃\n",
       "┡━━━━━━━━━━━━━━━━━━━━━━━━━━━━━━━━━╇━━━━━━━━━━━━━━━━━━━━━━━━━━━╇━━━━━━━━━━━━┩\n",
       "│ dense_42 (\u001b[38;5;33mDense\u001b[0m)                │ (\u001b[38;5;45mNone\u001b[0m, \u001b[38;5;34m12\u001b[0m)                │         \u001b[38;5;34m96\u001b[0m │\n",
       "├─────────────────────────────────┼───────────────────────────┼────────────┤\n",
       "│ dropout_14 (\u001b[38;5;33mDropout\u001b[0m)            │ (\u001b[38;5;45mNone\u001b[0m, \u001b[38;5;34m12\u001b[0m)                │          \u001b[38;5;34m0\u001b[0m │\n",
       "├─────────────────────────────────┼───────────────────────────┼────────────┤\n",
       "│ dense_43 (\u001b[38;5;33mDense\u001b[0m)                │ (\u001b[38;5;45mNone\u001b[0m, \u001b[38;5;34m6\u001b[0m)                 │         \u001b[38;5;34m78\u001b[0m │\n",
       "├─────────────────────────────────┼───────────────────────────┼────────────┤\n",
       "│ dense_44 (\u001b[38;5;33mDense\u001b[0m)                │ (\u001b[38;5;45mNone\u001b[0m, \u001b[38;5;34m1\u001b[0m)                 │          \u001b[38;5;34m7\u001b[0m │\n",
       "└─────────────────────────────────┴───────────────────────────┴────────────┘\n"
      ]
     },
     "metadata": {},
     "output_type": "display_data"
    },
    {
     "data": {
      "text/html": [
       "<pre style=\"white-space:pre;overflow-x:auto;line-height:normal;font-family:Menlo,'DejaVu Sans Mono',consolas,'Courier New',monospace\"><span style=\"font-weight: bold\"> Total params: </span><span style=\"color: #00af00; text-decoration-color: #00af00\">181</span> (724.00 B)\n",
       "</pre>\n"
      ],
      "text/plain": [
       "\u001b[1m Total params: \u001b[0m\u001b[38;5;34m181\u001b[0m (724.00 B)\n"
      ]
     },
     "metadata": {},
     "output_type": "display_data"
    },
    {
     "data": {
      "text/html": [
       "<pre style=\"white-space:pre;overflow-x:auto;line-height:normal;font-family:Menlo,'DejaVu Sans Mono',consolas,'Courier New',monospace\"><span style=\"font-weight: bold\"> Trainable params: </span><span style=\"color: #00af00; text-decoration-color: #00af00\">181</span> (724.00 B)\n",
       "</pre>\n"
      ],
      "text/plain": [
       "\u001b[1m Trainable params: \u001b[0m\u001b[38;5;34m181\u001b[0m (724.00 B)\n"
      ]
     },
     "metadata": {},
     "output_type": "display_data"
    },
    {
     "data": {
      "text/html": [
       "<pre style=\"white-space:pre;overflow-x:auto;line-height:normal;font-family:Menlo,'DejaVu Sans Mono',consolas,'Courier New',monospace\"><span style=\"font-weight: bold\"> Non-trainable params: </span><span style=\"color: #00af00; text-decoration-color: #00af00\">0</span> (0.00 B)\n",
       "</pre>\n"
      ],
      "text/plain": [
       "\u001b[1m Non-trainable params: \u001b[0m\u001b[38;5;34m0\u001b[0m (0.00 B)\n"
      ]
     },
     "metadata": {},
     "output_type": "display_data"
    }
   ],
   "source": [
    "input_dim = x.shape[1]\n",
    "\n",
    "nn_clf = keras.Sequential(\n",
    "    [\n",
    "        keras.layers.Input(shape=(input_dim,)),\n",
    "        keras.layers.Dense(12, activation='relu'),\n",
    "        keras.layers.Dropout(0.2),\n",
    "        keras.layers.Dense(6, activation='relu'),\n",
    "        #keras.layers.Dropout(0.2),\n",
    "        #keras.layers.Dense(3, activation='relu'),\n",
    "        keras.layers.Dense(1, activation='sigmoid'),\n",
    "    ]\n",
    ")\n",
    "\n",
    "nn_clf.summary()"
   ]
  },
  {
   "cell_type": "code",
   "execution_count": 274,
   "metadata": {},
   "outputs": [
    {
     "data": {
      "image/png": "[encoded data removed]",
      "text/plain": [
       "<IPython.core.display.Image object>"
      ]
     },
     "execution_count": 274,
     "metadata": {},
     "output_type": "execute_result"
    }
   ],
   "source": [
    "keras.utils.plot_model(nn_clf, show_layer_activations=True, dpi=100, rankdir=\"LR\")"
   ]
  },
  {
   "cell_type": "code",
   "execution_count": 275,
   "metadata": {},
   "outputs": [],
   "source": [
    "optimzer = keras.optimizers.Adam(learning_rate=0.002)\n",
    "\n",
    "nn_clf.compile(\n",
    "    optimizer = optimzer,\n",
    "    loss = 'binary_crossentropy',\n",
    "    metrics = ['accuracy'],\n",
    ")"
   ]
  },
  {
   "cell_type": "code",
   "execution_count": 276,
   "metadata": {},
   "outputs": [
    {
     "name": "stdout",
     "output_type": "stream",
     "text": [
      "Epoch 1/500\n"
     ]
    },
    {
     "name": "stdout",
     "output_type": "stream",
     "text": [
      "19/19 - 4s - 221ms/step - accuracy: 0.3851 - loss: 0.9765 - val_accuracy: 0.4486 - val_loss: 0.7560\n",
      "Epoch 2/500\n",
      "19/19 - 0s - 8ms/step - accuracy: 0.3934 - loss: 0.7763 - val_accuracy: 0.4393 - val_loss: 0.6993\n",
      "Epoch 3/500\n",
      "19/19 - 0s - 7ms/step - accuracy: 0.4777 - loss: 0.7110 - val_accuracy: 0.5701 - val_loss: 0.6872\n",
      "Epoch 4/500\n",
      "19/19 - 0s - 8ms/step - accuracy: 0.5934 - loss: 0.6741 - val_accuracy: 0.5421 - val_loss: 0.6798\n",
      "Epoch 5/500\n",
      "19/19 - 0s - 7ms/step - accuracy: 0.6050 - loss: 0.6589 - val_accuracy: 0.5514 - val_loss: 0.6717\n",
      "Epoch 6/500\n",
      "19/19 - 0s - 7ms/step - accuracy: 0.6298 - loss: 0.6399 - val_accuracy: 0.5514 - val_loss: 0.6682\n",
      "Epoch 7/500\n",
      "19/19 - 0s - 8ms/step - accuracy: 0.6463 - loss: 0.6206 - val_accuracy: 0.5514 - val_loss: 0.6633\n",
      "Epoch 8/500\n",
      "19/19 - 0s - 7ms/step - accuracy: 0.6496 - loss: 0.6144 - val_accuracy: 0.5981 - val_loss: 0.6555\n",
      "Epoch 9/500\n",
      "19/19 - 0s - 7ms/step - accuracy: 0.6678 - loss: 0.6090 - val_accuracy: 0.6075 - val_loss: 0.6434\n",
      "Epoch 10/500\n",
      "19/19 - 0s - 7ms/step - accuracy: 0.6810 - loss: 0.5947 - val_accuracy: 0.6168 - val_loss: 0.6325\n",
      "Epoch 11/500\n",
      "19/19 - 0s - 7ms/step - accuracy: 0.6975 - loss: 0.5696 - val_accuracy: 0.6355 - val_loss: 0.6219\n",
      "Epoch 12/500\n",
      "19/19 - 0s - 8ms/step - accuracy: 0.7058 - loss: 0.5664 - val_accuracy: 0.6449 - val_loss: 0.6169\n",
      "Epoch 13/500\n",
      "19/19 - 0s - 6ms/step - accuracy: 0.7471 - loss: 0.5388 - val_accuracy: 0.6729 - val_loss: 0.6080\n",
      "Epoch 14/500\n",
      "19/19 - 0s - 8ms/step - accuracy: 0.7488 - loss: 0.5322 - val_accuracy: 0.7009 - val_loss: 0.6017\n",
      "Epoch 15/500\n",
      "19/19 - 0s - 8ms/step - accuracy: 0.7702 - loss: 0.5337 - val_accuracy: 0.6916 - val_loss: 0.5999\n",
      "Epoch 16/500\n",
      "19/19 - 0s - 8ms/step - accuracy: 0.7736 - loss: 0.5214 - val_accuracy: 0.6916 - val_loss: 0.6014\n",
      "Epoch 17/500\n",
      "19/19 - 0s - 7ms/step - accuracy: 0.7868 - loss: 0.4954 - val_accuracy: 0.6916 - val_loss: 0.5968\n",
      "Epoch 18/500\n",
      "19/19 - 0s - 7ms/step - accuracy: 0.7736 - loss: 0.5212 - val_accuracy: 0.6916 - val_loss: 0.5925\n",
      "Epoch 19/500\n",
      "19/19 - 0s - 8ms/step - accuracy: 0.7686 - loss: 0.5102 - val_accuracy: 0.7196 - val_loss: 0.5909\n",
      "Epoch 20/500\n",
      "19/19 - 0s - 7ms/step - accuracy: 0.7719 - loss: 0.4992 - val_accuracy: 0.7196 - val_loss: 0.5856\n",
      "Epoch 21/500\n",
      "19/19 - 0s - 7ms/step - accuracy: 0.7785 - loss: 0.5102 - val_accuracy: 0.7103 - val_loss: 0.5792\n",
      "Epoch 22/500\n",
      "19/19 - 0s - 12ms/step - accuracy: 0.7785 - loss: 0.5041 - val_accuracy: 0.7196 - val_loss: 0.5761\n",
      "Epoch 23/500\n",
      "19/19 - 0s - 7ms/step - accuracy: 0.7851 - loss: 0.4956 - val_accuracy: 0.7103 - val_loss: 0.5711\n",
      "Epoch 24/500\n",
      "19/19 - 0s - 7ms/step - accuracy: 0.7851 - loss: 0.4888 - val_accuracy: 0.7477 - val_loss: 0.5664\n",
      "Epoch 25/500\n",
      "19/19 - 0s - 8ms/step - accuracy: 0.7719 - loss: 0.5104 - val_accuracy: 0.7664 - val_loss: 0.5624\n",
      "Epoch 26/500\n",
      "19/19 - 0s - 8ms/step - accuracy: 0.7967 - loss: 0.4814 - val_accuracy: 0.7664 - val_loss: 0.5596\n",
      "Epoch 27/500\n",
      "19/19 - 0s - 8ms/step - accuracy: 0.8066 - loss: 0.4828 - val_accuracy: 0.7757 - val_loss: 0.5552\n",
      "Epoch 28/500\n",
      "19/19 - 0s - 7ms/step - accuracy: 0.8050 - loss: 0.4672 - val_accuracy: 0.7757 - val_loss: 0.5526\n",
      "Epoch 29/500\n",
      "19/19 - 0s - 8ms/step - accuracy: 0.7868 - loss: 0.4863 - val_accuracy: 0.7664 - val_loss: 0.5529\n",
      "Epoch 30/500\n",
      "19/19 - 0s - 8ms/step - accuracy: 0.7934 - loss: 0.4779 - val_accuracy: 0.7757 - val_loss: 0.5471\n",
      "Epoch 31/500\n",
      "19/19 - 0s - 7ms/step - accuracy: 0.7868 - loss: 0.4893 - val_accuracy: 0.7757 - val_loss: 0.5454\n",
      "Epoch 32/500\n",
      "19/19 - 0s - 7ms/step - accuracy: 0.8000 - loss: 0.4672 - val_accuracy: 0.7757 - val_loss: 0.5456\n",
      "Epoch 33/500\n",
      "19/19 - 0s - 7ms/step - accuracy: 0.7934 - loss: 0.4635 - val_accuracy: 0.7757 - val_loss: 0.5419\n",
      "Epoch 34/500\n",
      "19/19 - 0s - 7ms/step - accuracy: 0.7967 - loss: 0.4907 - val_accuracy: 0.7757 - val_loss: 0.5425\n",
      "Epoch 35/500\n",
      "19/19 - 0s - 7ms/step - accuracy: 0.8083 - loss: 0.4626 - val_accuracy: 0.7757 - val_loss: 0.5412\n",
      "Epoch 36/500\n",
      "19/19 - 0s - 7ms/step - accuracy: 0.7917 - loss: 0.4742 - val_accuracy: 0.7570 - val_loss: 0.5423\n",
      "Epoch 37/500\n",
      "19/19 - 0s - 8ms/step - accuracy: 0.8050 - loss: 0.4561 - val_accuracy: 0.7664 - val_loss: 0.5422\n",
      "Epoch 38/500\n",
      "19/19 - 0s - 7ms/step - accuracy: 0.8033 - loss: 0.4655 - val_accuracy: 0.7757 - val_loss: 0.5381\n",
      "Epoch 39/500\n",
      "19/19 - 0s - 7ms/step - accuracy: 0.8017 - loss: 0.4684 - val_accuracy: 0.7757 - val_loss: 0.5373\n",
      "Epoch 40/500\n",
      "19/19 - 0s - 6ms/step - accuracy: 0.7950 - loss: 0.4766 - val_accuracy: 0.7664 - val_loss: 0.5361\n",
      "Epoch 41/500\n",
      "19/19 - 0s - 8ms/step - accuracy: 0.8050 - loss: 0.4621 - val_accuracy: 0.7664 - val_loss: 0.5377\n",
      "Epoch 42/500\n",
      "19/19 - 0s - 8ms/step - accuracy: 0.7983 - loss: 0.4657 - val_accuracy: 0.7570 - val_loss: 0.5361\n",
      "Epoch 43/500\n",
      "19/19 - 0s - 7ms/step - accuracy: 0.8033 - loss: 0.4594 - val_accuracy: 0.7570 - val_loss: 0.5381\n",
      "Epoch 44/500\n",
      "19/19 - 0s - 7ms/step - accuracy: 0.8000 - loss: 0.4645 - val_accuracy: 0.7570 - val_loss: 0.5379\n",
      "Epoch 45/500\n",
      "19/19 - 0s - 7ms/step - accuracy: 0.8116 - loss: 0.4571 - val_accuracy: 0.7477 - val_loss: 0.5382\n",
      "Epoch 46/500\n",
      "19/19 - 0s - 7ms/step - accuracy: 0.8000 - loss: 0.4556 - val_accuracy: 0.7570 - val_loss: 0.5377\n",
      "Epoch 47/500\n",
      "19/19 - 0s - 7ms/step - accuracy: 0.8050 - loss: 0.4601 - val_accuracy: 0.7477 - val_loss: 0.5378\n",
      "Epoch 48/500\n",
      "19/19 - 0s - 7ms/step - accuracy: 0.8099 - loss: 0.4639 - val_accuracy: 0.7570 - val_loss: 0.5363\n",
      "Epoch 49/500\n",
      "19/19 - 0s - 7ms/step - accuracy: 0.8132 - loss: 0.4564 - val_accuracy: 0.7570 - val_loss: 0.5348\n",
      "Epoch 50/500\n",
      "19/19 - 0s - 6ms/step - accuracy: 0.8033 - loss: 0.4479 - val_accuracy: 0.7477 - val_loss: 0.5350\n",
      "Epoch 51/500\n",
      "19/19 - 0s - 7ms/step - accuracy: 0.8132 - loss: 0.4452 - val_accuracy: 0.7477 - val_loss: 0.5344\n",
      "Epoch 52/500\n",
      "19/19 - 0s - 8ms/step - accuracy: 0.8116 - loss: 0.4485 - val_accuracy: 0.7570 - val_loss: 0.5323\n",
      "Epoch 53/500\n",
      "19/19 - 0s - 7ms/step - accuracy: 0.8050 - loss: 0.4421 - val_accuracy: 0.7477 - val_loss: 0.5326\n",
      "Epoch 54/500\n",
      "19/19 - 0s - 6ms/step - accuracy: 0.8083 - loss: 0.4449 - val_accuracy: 0.7570 - val_loss: 0.5328\n",
      "Epoch 55/500\n",
      "19/19 - 0s - 7ms/step - accuracy: 0.8050 - loss: 0.4598 - val_accuracy: 0.7383 - val_loss: 0.5291\n",
      "Epoch 56/500\n",
      "19/19 - 0s - 7ms/step - accuracy: 0.8050 - loss: 0.4550 - val_accuracy: 0.7477 - val_loss: 0.5294\n",
      "Epoch 57/500\n",
      "19/19 - 0s - 7ms/step - accuracy: 0.7983 - loss: 0.4510 - val_accuracy: 0.7570 - val_loss: 0.5271\n",
      "Epoch 58/500\n",
      "19/19 - 0s - 9ms/step - accuracy: 0.8066 - loss: 0.4616 - val_accuracy: 0.7570 - val_loss: 0.5269\n",
      "Epoch 59/500\n",
      "19/19 - 0s - 8ms/step - accuracy: 0.8149 - loss: 0.4404 - val_accuracy: 0.7664 - val_loss: 0.5274\n",
      "Epoch 60/500\n",
      "19/19 - 0s - 8ms/step - accuracy: 0.8099 - loss: 0.4477 - val_accuracy: 0.7664 - val_loss: 0.5273\n",
      "Epoch 61/500\n",
      "19/19 - 0s - 8ms/step - accuracy: 0.8083 - loss: 0.4539 - val_accuracy: 0.7477 - val_loss: 0.5297\n",
      "Epoch 62/500\n",
      "19/19 - 0s - 12ms/step - accuracy: 0.8116 - loss: 0.4425 - val_accuracy: 0.7664 - val_loss: 0.5243\n",
      "Epoch 63/500\n",
      "19/19 - 0s - 7ms/step - accuracy: 0.8083 - loss: 0.4480 - val_accuracy: 0.7570 - val_loss: 0.5227\n",
      "Epoch 64/500\n",
      "19/19 - 0s - 8ms/step - accuracy: 0.8248 - loss: 0.4324 - val_accuracy: 0.7570 - val_loss: 0.5250\n",
      "Epoch 65/500\n",
      "19/19 - 0s - 7ms/step - accuracy: 0.8149 - loss: 0.4441 - val_accuracy: 0.7664 - val_loss: 0.5235\n",
      "Epoch 66/500\n",
      "19/19 - 0s - 7ms/step - accuracy: 0.8066 - loss: 0.4384 - val_accuracy: 0.7570 - val_loss: 0.5235\n",
      "Epoch 67/500\n",
      "19/19 - 0s - 9ms/step - accuracy: 0.8132 - loss: 0.4484 - val_accuracy: 0.7383 - val_loss: 0.5232\n",
      "Epoch 68/500\n",
      "19/19 - 0s - 7ms/step - accuracy: 0.8050 - loss: 0.4513 - val_accuracy: 0.7570 - val_loss: 0.5204\n",
      "Epoch 69/500\n",
      "19/19 - 0s - 7ms/step - accuracy: 0.7917 - loss: 0.4460 - val_accuracy: 0.7757 - val_loss: 0.5184\n",
      "Epoch 70/500\n",
      "19/19 - 0s - 7ms/step - accuracy: 0.7967 - loss: 0.4555 - val_accuracy: 0.7570 - val_loss: 0.5221\n",
      "Epoch 71/500\n",
      "19/19 - 0s - 7ms/step - accuracy: 0.7950 - loss: 0.4438 - val_accuracy: 0.7383 - val_loss: 0.5258\n",
      "Epoch 72/500\n",
      "19/19 - 0s - 6ms/step - accuracy: 0.7917 - loss: 0.4486 - val_accuracy: 0.7570 - val_loss: 0.5237\n",
      "Epoch 73/500\n",
      "19/19 - 0s - 7ms/step - accuracy: 0.8033 - loss: 0.4480 - val_accuracy: 0.7570 - val_loss: 0.5242\n",
      "Epoch 74/500\n",
      "19/19 - 0s - 7ms/step - accuracy: 0.8099 - loss: 0.4352 - val_accuracy: 0.7477 - val_loss: 0.5271\n",
      "Epoch 75/500\n",
      "19/19 - 0s - 7ms/step - accuracy: 0.8066 - loss: 0.4524 - val_accuracy: 0.7383 - val_loss: 0.5269\n",
      "Epoch 76/500\n",
      "19/19 - 0s - 7ms/step - accuracy: 0.8099 - loss: 0.4333 - val_accuracy: 0.7570 - val_loss: 0.5248\n",
      "Epoch 77/500\n",
      "19/19 - 0s - 7ms/step - accuracy: 0.7983 - loss: 0.4308 - val_accuracy: 0.7383 - val_loss: 0.5274\n",
      "Epoch 78/500\n",
      "19/19 - 0s - 7ms/step - accuracy: 0.8099 - loss: 0.4458 - val_accuracy: 0.7664 - val_loss: 0.5217\n",
      "Epoch 79/500\n",
      "19/19 - 0s - 7ms/step - accuracy: 0.8066 - loss: 0.4485 - val_accuracy: 0.7570 - val_loss: 0.5229\n",
      "Epoch 80/500\n",
      "19/19 - 0s - 7ms/step - accuracy: 0.8083 - loss: 0.4508 - val_accuracy: 0.7570 - val_loss: 0.5206\n",
      "Epoch 81/500\n",
      "19/19 - 0s - 9ms/step - accuracy: 0.8248 - loss: 0.4211 - val_accuracy: 0.7664 - val_loss: 0.5204\n",
      "Epoch 82/500\n",
      "19/19 - 0s - 12ms/step - accuracy: 0.8050 - loss: 0.4409 - val_accuracy: 0.7664 - val_loss: 0.5194\n",
      "Epoch 83/500\n",
      "19/19 - 0s - 7ms/step - accuracy: 0.8116 - loss: 0.4303 - val_accuracy: 0.7570 - val_loss: 0.5201\n",
      "Epoch 84/500\n",
      "19/19 - 0s - 6ms/step - accuracy: 0.8149 - loss: 0.4377 - val_accuracy: 0.7570 - val_loss: 0.5211\n",
      "Epoch 85/500\n",
      "19/19 - 0s - 11ms/step - accuracy: 0.8033 - loss: 0.4493 - val_accuracy: 0.7570 - val_loss: 0.5204\n",
      "Epoch 86/500\n",
      "19/19 - 0s - 10ms/step - accuracy: 0.8099 - loss: 0.4424 - val_accuracy: 0.7664 - val_loss: 0.5173\n",
      "Epoch 87/500\n",
      "19/19 - 0s - 8ms/step - accuracy: 0.8149 - loss: 0.4264 - val_accuracy: 0.7664 - val_loss: 0.5170\n",
      "Epoch 88/500\n",
      "19/19 - 0s - 8ms/step - accuracy: 0.8099 - loss: 0.4340 - val_accuracy: 0.7570 - val_loss: 0.5209\n",
      "Epoch 89/500\n",
      "19/19 - 0s - 7ms/step - accuracy: 0.7950 - loss: 0.4401 - val_accuracy: 0.7477 - val_loss: 0.5227\n",
      "Epoch 90/500\n",
      "19/19 - 0s - 7ms/step - accuracy: 0.7983 - loss: 0.4319 - val_accuracy: 0.7477 - val_loss: 0.5232\n",
      "Epoch 91/500\n",
      "19/19 - 0s - 11ms/step - accuracy: 0.8017 - loss: 0.4390 - val_accuracy: 0.7570 - val_loss: 0.5258\n",
      "Epoch 92/500\n",
      "19/19 - 0s - 8ms/step - accuracy: 0.8116 - loss: 0.4217 - val_accuracy: 0.7383 - val_loss: 0.5257\n",
      "Epoch 93/500\n",
      "19/19 - 0s - 7ms/step - accuracy: 0.8149 - loss: 0.4337 - val_accuracy: 0.7383 - val_loss: 0.5227\n",
      "Epoch 94/500\n",
      "19/19 - 0s - 7ms/step - accuracy: 0.8215 - loss: 0.4335 - val_accuracy: 0.7477 - val_loss: 0.5172\n",
      "Epoch 95/500\n",
      "19/19 - 0s - 8ms/step - accuracy: 0.8116 - loss: 0.4245 - val_accuracy: 0.7383 - val_loss: 0.5193\n",
      "Epoch 96/500\n",
      "19/19 - 0s - 7ms/step - accuracy: 0.8116 - loss: 0.4397 - val_accuracy: 0.7570 - val_loss: 0.5194\n",
      "Epoch 97/500\n",
      "19/19 - 0s - 7ms/step - accuracy: 0.8182 - loss: 0.4380 - val_accuracy: 0.7477 - val_loss: 0.5182\n",
      "Epoch 98/500\n",
      "19/19 - 0s - 7ms/step - accuracy: 0.8116 - loss: 0.4384 - val_accuracy: 0.7570 - val_loss: 0.5136\n",
      "Epoch 99/500\n",
      "19/19 - 0s - 8ms/step - accuracy: 0.8099 - loss: 0.4383 - val_accuracy: 0.7477 - val_loss: 0.5150\n",
      "Epoch 100/500\n",
      "19/19 - 0s - 8ms/step - accuracy: 0.8149 - loss: 0.4309 - val_accuracy: 0.7570 - val_loss: 0.5181\n",
      "Epoch 101/500\n",
      "19/19 - 0s - 7ms/step - accuracy: 0.8116 - loss: 0.4321 - val_accuracy: 0.7570 - val_loss: 0.5185\n",
      "Epoch 102/500\n",
      "19/19 - 0s - 7ms/step - accuracy: 0.8132 - loss: 0.4376 - val_accuracy: 0.7664 - val_loss: 0.5185\n",
      "Epoch 103/500\n",
      "19/19 - 0s - 9ms/step - accuracy: 0.8314 - loss: 0.4178 - val_accuracy: 0.7570 - val_loss: 0.5207\n",
      "Epoch 104/500\n",
      "19/19 - 0s - 6ms/step - accuracy: 0.8149 - loss: 0.4267 - val_accuracy: 0.7664 - val_loss: 0.5226\n",
      "Epoch 105/500\n",
      "19/19 - 0s - 7ms/step - accuracy: 0.8099 - loss: 0.4312 - val_accuracy: 0.7477 - val_loss: 0.5199\n",
      "Epoch 106/500\n",
      "19/19 - 0s - 7ms/step - accuracy: 0.8132 - loss: 0.4236 - val_accuracy: 0.7570 - val_loss: 0.5211\n",
      "Epoch 107/500\n",
      "19/19 - 0s - 7ms/step - accuracy: 0.8215 - loss: 0.4198 - val_accuracy: 0.7570 - val_loss: 0.5211\n",
      "Epoch 108/500\n",
      "19/19 - 0s - 10ms/step - accuracy: 0.8033 - loss: 0.4346 - val_accuracy: 0.7664 - val_loss: 0.5165\n",
      "Epoch 109/500\n",
      "19/19 - 0s - 8ms/step - accuracy: 0.8116 - loss: 0.4294 - val_accuracy: 0.7664 - val_loss: 0.5146\n",
      "Epoch 110/500\n",
      "19/19 - 0s - 7ms/step - accuracy: 0.8116 - loss: 0.4252 - val_accuracy: 0.7570 - val_loss: 0.5161\n",
      "Epoch 111/500\n",
      "19/19 - 0s - 6ms/step - accuracy: 0.8298 - loss: 0.4285 - val_accuracy: 0.7477 - val_loss: 0.5150\n",
      "Epoch 112/500\n",
      "19/19 - 0s - 7ms/step - accuracy: 0.8198 - loss: 0.4281 - val_accuracy: 0.7664 - val_loss: 0.5145\n",
      "Epoch 113/500\n",
      "19/19 - 0s - 7ms/step - accuracy: 0.8198 - loss: 0.4321 - val_accuracy: 0.7850 - val_loss: 0.5145\n",
      "Epoch 114/500\n",
      "19/19 - 0s - 7ms/step - accuracy: 0.8264 - loss: 0.4231 - val_accuracy: 0.7850 - val_loss: 0.5136\n",
      "Epoch 115/500\n",
      "19/19 - 0s - 6ms/step - accuracy: 0.8198 - loss: 0.4286 - val_accuracy: 0.7570 - val_loss: 0.5191\n",
      "Epoch 116/500\n",
      "19/19 - 0s - 7ms/step - accuracy: 0.8132 - loss: 0.4300 - val_accuracy: 0.7664 - val_loss: 0.5196\n",
      "Epoch 117/500\n",
      "19/19 - 0s - 7ms/step - accuracy: 0.8182 - loss: 0.4283 - val_accuracy: 0.7570 - val_loss: 0.5187\n",
      "Epoch 118/500\n",
      "19/19 - 0s - 8ms/step - accuracy: 0.8182 - loss: 0.4370 - val_accuracy: 0.7570 - val_loss: 0.5191\n",
      "Epoch 118: early stopping\n",
      "Restoring model weights from the end of the best epoch: 98.\n"
     ]
    }
   ],
   "source": [
    "my_callbacks = [\n",
    "    keras.callbacks.EarlyStopping(patience=20,verbose=1, restore_best_weights=True),\n",
    "]\n",
    "\n",
    "history = nn_clf.fit(x=x_train, y=y_train, epochs=500, verbose=2, \n",
    "                     validation_split=0.15,\n",
    "                     shuffle=True,\n",
    "                     callbacks=my_callbacks)"
   ]
  },
  {
   "cell_type": "code",
   "execution_count": 277,
   "metadata": {},
   "outputs": [
    {
     "data": {
      "text/plain": [
       "<Axes: xlabel='epochs', ylabel='loss'>"
      ]
     },
     "execution_count": 277,
     "metadata": {},
     "output_type": "execute_result"
    },
    {
     "data": {
      "image/png": "[encoded data removed]",
      "text/plain": [
       "<Figure size 640x480 with 1 Axes>"
      ]
     },
     "metadata": {},
     "output_type": "display_data"
    }
   ],
   "source": [
    "train_log = pd.DataFrame(history.history)\n",
    "train_log[['loss', 'val_loss']].plot(\n",
    "    xlabel='epochs',\n",
    "    ylabel='loss',\n",
    "    ylim=(0.3,0.6),\n",
    "    grid=True\n",
    ")"
   ]
  },
  {
   "cell_type": "code",
   "execution_count": 157,
   "metadata": {},
   "outputs": [
    {
     "name": "stderr",
     "output_type": "stream",
     "text": [
      "WARNING:absl:Compiled the loaded model, but the compiled metrics have yet to be built. `model.compile_metrics` will be empty until you train or evaluate the model.\n"
     ]
    }
   ],
   "source": [
    "# 保存一下模型\n",
    "# nn_clf.save('nn_model4.h5')\n",
    "# nn_clf = keras.saving.load_model('titanic_0.78947.h5')"
   ]
  },
  {
   "cell_type": "code",
   "execution_count": 250,
   "metadata": {},
   "outputs": [
    {
     "name": "stdout",
     "output_type": "stream",
     "text": [
      "\u001b[1m28/28\u001b[0m \u001b[32m━━━━━━━━━━━━━━━━━━━━\u001b[0m\u001b[37m\u001b[0m \u001b[1m0s\u001b[0m 2ms/step\n"
     ]
    }
   ],
   "source": [
    "y_pred = nn_clf.predict(x)"
   ]
  },
  {
   "cell_type": "code",
   "execution_count": 251,
   "metadata": {},
   "outputs": [
    {
     "data": {
      "text/plain": [
       "0.8249158249158249"
      ]
     },
     "execution_count": 251,
     "metadata": {},
     "output_type": "execute_result"
    }
   ],
   "source": [
    "proba_gamma = 0.5\n",
    "accuracy_score(y, y_pred>proba_gamma)"
   ]
  },
  {
   "cell_type": "code",
   "execution_count": 252,
   "metadata": {},
   "outputs": [
    {
     "data": {
      "text/plain": [
       "0.8033505895887258"
      ]
     },
     "execution_count": 252,
     "metadata": {},
     "output_type": "execute_result"
    }
   ],
   "source": [
    "roc_auc_score(y, y_pred>0.5)"
   ]
  },
  {
   "cell_type": "code",
   "execution_count": 247,
   "metadata": {},
   "outputs": [
    {
     "data": {
      "text/plain": [
       "<Axes: ylabel='Proportion'>"
      ]
     },
     "execution_count": 247,
     "metadata": {},
     "output_type": "execute_result"
    },
    {
     "data": {
      "image/png": "[encoded data removed]",
      "text/plain": [
       "<Figure size 640x480 with 1 Axes>"
      ]
     },
     "metadata": {},
     "output_type": "display_data"
    }
   ],
   "source": [
    "import matplotlib.pyplot as plt \n",
    "import seaborn as sns\n",
    "sns.ecdfplot(y_pred)"
   ]
  },
  {
   "cell_type": "code",
   "execution_count": 248,
   "metadata": {},
   "outputs": [
    {
     "name": "stdout",
     "output_type": "stream",
     "text": [
      "\u001b[1m14/14\u001b[0m \u001b[32m━━━━━━━━━━━━━━━━━━━━\u001b[0m\u001b[37m\u001b[0m \u001b[1m0s\u001b[0m 3ms/step \n"
     ]
    }
   ],
   "source": [
    "result = nn_clf.predict(test).flatten()\n",
    "result = np.where(result>proba_gamma, 1, 0)\n",
    "result = pd.DataFrame(result, columns=['Survived'])\n",
    "result['PassengerID'] = test_id\n",
    "result.to_csv('result.csv', index=False)"
   ]
  },
  {
   "cell_type": "markdown",
   "metadata": {},
   "source": [
    "# Ensemble"
   ]
  },
  {
   "cell_type": "code",
   "execution_count": 93,
   "metadata": {},
   "outputs": [
    {
     "name": "stdout",
     "output_type": "stream",
     "text": [
      "\u001b[1m14/14\u001b[0m \u001b[32m━━━━━━━━━━━━━━━━━━━━\u001b[0m\u001b[37m\u001b[0m \u001b[1m0s\u001b[0m 3ms/step \n"
     ]
    }
   ],
   "source": [
    "lgbm_pred = lgbm_clf.predict_proba(test)[:,1]\n",
    "nn_pred = nn_clf.predict(test).flatten()"
   ]
  },
  {
   "cell_type": "code",
   "execution_count": 94,
   "metadata": {},
   "outputs": [],
   "source": [
    "ensemble_pred = np.where((lgbm_pred + nn_pred) > 0.9, 1, 0)"
   ]
  },
  {
   "cell_type": "code",
   "execution_count": 95,
   "metadata": {},
   "outputs": [
    {
     "ename": "ValueError",
     "evalue": "Found input variables with inconsistent numbers of samples: [179, 418]",
     "output_type": "error",
     "traceback": [
      "\u001b[1;31m---------------------------------------------------------------------------\u001b[0m",
      "\u001b[1;31mValueError\u001b[0m                                Traceback (most recent call last)",
      "\u001b[1;32mc:\\Users\\小王\\Desktop\\kaggle\\titanic\\titanic.ipynb 单元格 43\u001b[0m line \u001b[0;36m1\n\u001b[1;32m----> <a href='vscode-notebook-cell:/c%3A/Users/%E5%B0%8F%E7%8E%8B/Desktop/kaggle/titanic/titanic.ipynb#Y153sZmlsZQ%3D%3D?line=0'>1</a>\u001b[0m accuracy_score(y_test, ensemble_pred)\n",
      "File \u001b[1;32md:\\Anaconda\\lib\\site-packages\\sklearn\\utils\\_param_validation.py:211\u001b[0m, in \u001b[0;36mvalidate_params.<locals>.decorator.<locals>.wrapper\u001b[1;34m(*args, **kwargs)\u001b[0m\n\u001b[0;32m    205\u001b[0m \u001b[39mtry\u001b[39;00m:\n\u001b[0;32m    206\u001b[0m     \u001b[39mwith\u001b[39;00m config_context(\n\u001b[0;32m    207\u001b[0m         skip_parameter_validation\u001b[39m=\u001b[39m(\n\u001b[0;32m    208\u001b[0m             prefer_skip_nested_validation \u001b[39mor\u001b[39;00m global_skip_validation\n\u001b[0;32m    209\u001b[0m         )\n\u001b[0;32m    210\u001b[0m     ):\n\u001b[1;32m--> 211\u001b[0m         \u001b[39mreturn\u001b[39;00m func(\u001b[39m*\u001b[39margs, \u001b[39m*\u001b[39m\u001b[39m*\u001b[39mkwargs)\n\u001b[0;32m    212\u001b[0m \u001b[39mexcept\u001b[39;00m InvalidParameterError \u001b[39mas\u001b[39;00m e:\n\u001b[0;32m    213\u001b[0m     \u001b[39m# When the function is just a wrapper around an estimator, we allow\u001b[39;00m\n\u001b[0;32m    214\u001b[0m     \u001b[39m# the function to delegate validation to the estimator, but we replace\u001b[39;00m\n\u001b[0;32m    215\u001b[0m     \u001b[39m# the name of the estimator by the name of the function in the error\u001b[39;00m\n\u001b[0;32m    216\u001b[0m     \u001b[39m# message to avoid confusion.\u001b[39;00m\n\u001b[0;32m    217\u001b[0m     msg \u001b[39m=\u001b[39m re\u001b[39m.\u001b[39msub(\n\u001b[0;32m    218\u001b[0m         \u001b[39mr\u001b[39m\u001b[39m\"\u001b[39m\u001b[39mparameter of \u001b[39m\u001b[39m\\\u001b[39m\u001b[39mw+ must be\u001b[39m\u001b[39m\"\u001b[39m,\n\u001b[0;32m    219\u001b[0m         \u001b[39mf\u001b[39m\u001b[39m\"\u001b[39m\u001b[39mparameter of \u001b[39m\u001b[39m{\u001b[39;00mfunc\u001b[39m.\u001b[39m\u001b[39m__qualname__\u001b[39m\u001b[39m}\u001b[39;00m\u001b[39m must be\u001b[39m\u001b[39m\"\u001b[39m,\n\u001b[0;32m    220\u001b[0m         \u001b[39mstr\u001b[39m(e),\n\u001b[0;32m    221\u001b[0m     )\n",
      "File \u001b[1;32md:\\Anaconda\\lib\\site-packages\\sklearn\\metrics\\_classification.py:220\u001b[0m, in \u001b[0;36maccuracy_score\u001b[1;34m(y_true, y_pred, normalize, sample_weight)\u001b[0m\n\u001b[0;32m    154\u001b[0m \u001b[39m\u001b[39m\u001b[39m\"\"\"Accuracy classification score.\u001b[39;00m\n\u001b[0;32m    155\u001b[0m \n\u001b[0;32m    156\u001b[0m \u001b[39mIn multilabel classification, this function computes subset accuracy:\u001b[39;00m\n\u001b[1;32m   (...)\u001b[0m\n\u001b[0;32m    216\u001b[0m \u001b[39m0.5\u001b[39;00m\n\u001b[0;32m    217\u001b[0m \u001b[39m\"\"\"\u001b[39;00m\n\u001b[0;32m    219\u001b[0m \u001b[39m# Compute accuracy for each possible representation\u001b[39;00m\n\u001b[1;32m--> 220\u001b[0m y_type, y_true, y_pred \u001b[39m=\u001b[39m _check_targets(y_true, y_pred)\n\u001b[0;32m    221\u001b[0m check_consistent_length(y_true, y_pred, sample_weight)\n\u001b[0;32m    222\u001b[0m \u001b[39mif\u001b[39;00m y_type\u001b[39m.\u001b[39mstartswith(\u001b[39m\"\u001b[39m\u001b[39mmultilabel\u001b[39m\u001b[39m\"\u001b[39m):\n",
      "File \u001b[1;32md:\\Anaconda\\lib\\site-packages\\sklearn\\metrics\\_classification.py:84\u001b[0m, in \u001b[0;36m_check_targets\u001b[1;34m(y_true, y_pred)\u001b[0m\n\u001b[0;32m     57\u001b[0m \u001b[39mdef\u001b[39;00m \u001b[39m_check_targets\u001b[39m(y_true, y_pred):\n\u001b[0;32m     58\u001b[0m \u001b[39m    \u001b[39m\u001b[39m\"\"\"Check that y_true and y_pred belong to the same classification task.\u001b[39;00m\n\u001b[0;32m     59\u001b[0m \n\u001b[0;32m     60\u001b[0m \u001b[39m    This converts multiclass or binary types to a common shape, and raises a\u001b[39;00m\n\u001b[1;32m   (...)\u001b[0m\n\u001b[0;32m     82\u001b[0m \u001b[39m    y_pred : array or indicator matrix\u001b[39;00m\n\u001b[0;32m     83\u001b[0m \u001b[39m    \"\"\"\u001b[39;00m\n\u001b[1;32m---> 84\u001b[0m     check_consistent_length(y_true, y_pred)\n\u001b[0;32m     85\u001b[0m     type_true \u001b[39m=\u001b[39m type_of_target(y_true, input_name\u001b[39m=\u001b[39m\u001b[39m\"\u001b[39m\u001b[39my_true\u001b[39m\u001b[39m\"\u001b[39m)\n\u001b[0;32m     86\u001b[0m     type_pred \u001b[39m=\u001b[39m type_of_target(y_pred, input_name\u001b[39m=\u001b[39m\u001b[39m\"\u001b[39m\u001b[39my_pred\u001b[39m\u001b[39m\"\u001b[39m)\n",
      "File \u001b[1;32md:\\Anaconda\\lib\\site-packages\\sklearn\\utils\\validation.py:409\u001b[0m, in \u001b[0;36mcheck_consistent_length\u001b[1;34m(*arrays)\u001b[0m\n\u001b[0;32m    407\u001b[0m uniques \u001b[39m=\u001b[39m np\u001b[39m.\u001b[39munique(lengths)\n\u001b[0;32m    408\u001b[0m \u001b[39mif\u001b[39;00m \u001b[39mlen\u001b[39m(uniques) \u001b[39m>\u001b[39m \u001b[39m1\u001b[39m:\n\u001b[1;32m--> 409\u001b[0m     \u001b[39mraise\u001b[39;00m \u001b[39mValueError\u001b[39;00m(\n\u001b[0;32m    410\u001b[0m         \u001b[39m\"\u001b[39m\u001b[39mFound input variables with inconsistent numbers of samples: \u001b[39m\u001b[39m%r\u001b[39;00m\u001b[39m\"\u001b[39m\n\u001b[0;32m    411\u001b[0m         \u001b[39m%\u001b[39m [\u001b[39mint\u001b[39m(l) \u001b[39mfor\u001b[39;00m l \u001b[39min\u001b[39;00m lengths]\n\u001b[0;32m    412\u001b[0m     )\n",
      "\u001b[1;31mValueError\u001b[0m: Found input variables with inconsistent numbers of samples: [179, 418]"
     ]
    }
   ],
   "source": [
    "accuracy_score(y_test, ensemble_pred)"
   ]
  },
  {
   "cell_type": "code",
   "execution_count": 96,
   "metadata": {},
   "outputs": [],
   "source": [
    "result = pd.DataFrame(ensemble_pred, columns=['Survived'])\n",
    "result['PassengerID'] = test_id\n",
    "result.to_csv('ensemble_result.csv', index=False)"
   ]
  },
  {
   "cell_type": "markdown",
   "metadata": {},
   "source": [
    "# OUTPUT"
   ]
  },
  {
   "cell_type": "code",
   "execution_count": 315,
   "metadata": {},
   "outputs": [],
   "source": [
    "test_result = test.copy()\n",
    "test_result['Survived'] = lgbm_clf.predict(test)\n",
    "test_result = test_result[['PassengerId', 'Survived']]\n",
    "test_result.to_csv('test_result.csv', index=False)"
   ]
  }
 ],
 "metadata": {
  "kernelspec": {
   "display_name": "base",
   "language": "python",
   "name": "python3"
  },
  "language_info": {
   "codemirror_mode": {
    "name": "ipython",
    "version": 3
   },
   "file_extension": ".py",
   "mimetype": "text/x-python",
   "name": "python",
   "nbconvert_exporter": "python",
   "pygments_lexer": "ipython3",
   "version": "3.9.18"
  }
 },
 "nbformat": 4,
 "nbformat_minor": 2
}

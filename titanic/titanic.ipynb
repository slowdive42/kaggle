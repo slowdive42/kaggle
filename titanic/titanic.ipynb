{
 "cells": [
  {
   "cell_type": "code",
   "execution_count": 1,
   "metadata": {},
   "outputs": [],
   "source": [
    "import pandas as pd\n",
    "import numpy as np\n",
    "import re\n",
    "\n",
    "import warnings\n",
    "warnings.filterwarnings('ignore')\n",
    "\n",
    "from sklearn.preprocessing import LabelEncoder, minmax_scale"
   ]
  },
  {
   "cell_type": "code",
   "execution_count": 11,
   "metadata": {},
   "outputs": [],
   "source": [
    "data = pd.read_csv('data/train.csv')\n",
    "test = pd.read_csv('data/test.csv')\n",
    "test_id = test['PassengerId']"
   ]
  },
  {
   "cell_type": "markdown",
   "metadata": {},
   "source": [
    "## Analyze the Data"
   ]
  },
  {
   "cell_type": "markdown",
   "metadata": {},
   "source": [
    "可以看到cabin的na很多，ticket的意义不大，这两个feature直接丢掉。"
   ]
  },
  {
   "cell_type": "code",
   "execution_count": 12,
   "metadata": {},
   "outputs": [
    {
     "data": {
      "text/html": [
       "<div>\n",
       "<style scoped>\n",
       "    .dataframe tbody tr th:only-of-type {\n",
       "        vertical-align: middle;\n",
       "    }\n",
       "\n",
       "    .dataframe tbody tr th {\n",
       "        vertical-align: top;\n",
       "    }\n",
       "\n",
       "    .dataframe thead th {\n",
       "        text-align: right;\n",
       "    }\n",
       "</style>\n",
       "<table border=\"1\" class=\"dataframe\">\n",
       "  <thead>\n",
       "    <tr style=\"text-align: right;\">\n",
       "      <th></th>\n",
       "      <th>PassengerId</th>\n",
       "      <th>Survived</th>\n",
       "      <th>Pclass</th>\n",
       "      <th>Name</th>\n",
       "      <th>Sex</th>\n",
       "      <th>Age</th>\n",
       "      <th>SibSp</th>\n",
       "      <th>Parch</th>\n",
       "      <th>Ticket</th>\n",
       "      <th>Fare</th>\n",
       "      <th>Cabin</th>\n",
       "      <th>Embarked</th>\n",
       "    </tr>\n",
       "  </thead>\n",
       "  <tbody>\n",
       "    <tr>\n",
       "      <th>0</th>\n",
       "      <td>1</td>\n",
       "      <td>0</td>\n",
       "      <td>3</td>\n",
       "      <td>Braund, Mr. Owen Harris</td>\n",
       "      <td>male</td>\n",
       "      <td>22.0</td>\n",
       "      <td>1</td>\n",
       "      <td>0</td>\n",
       "      <td>A/5 21171</td>\n",
       "      <td>7.2500</td>\n",
       "      <td>NaN</td>\n",
       "      <td>S</td>\n",
       "    </tr>\n",
       "    <tr>\n",
       "      <th>1</th>\n",
       "      <td>2</td>\n",
       "      <td>1</td>\n",
       "      <td>1</td>\n",
       "      <td>Cumings, Mrs. John Bradley (Florence Briggs Th...</td>\n",
       "      <td>female</td>\n",
       "      <td>38.0</td>\n",
       "      <td>1</td>\n",
       "      <td>0</td>\n",
       "      <td>PC 17599</td>\n",
       "      <td>71.2833</td>\n",
       "      <td>C85</td>\n",
       "      <td>C</td>\n",
       "    </tr>\n",
       "    <tr>\n",
       "      <th>2</th>\n",
       "      <td>3</td>\n",
       "      <td>1</td>\n",
       "      <td>3</td>\n",
       "      <td>Heikkinen, Miss. Laina</td>\n",
       "      <td>female</td>\n",
       "      <td>26.0</td>\n",
       "      <td>0</td>\n",
       "      <td>0</td>\n",
       "      <td>STON/O2. 3101282</td>\n",
       "      <td>7.9250</td>\n",
       "      <td>NaN</td>\n",
       "      <td>S</td>\n",
       "    </tr>\n",
       "    <tr>\n",
       "      <th>3</th>\n",
       "      <td>4</td>\n",
       "      <td>1</td>\n",
       "      <td>1</td>\n",
       "      <td>Futrelle, Mrs. Jacques Heath (Lily May Peel)</td>\n",
       "      <td>female</td>\n",
       "      <td>35.0</td>\n",
       "      <td>1</td>\n",
       "      <td>0</td>\n",
       "      <td>113803</td>\n",
       "      <td>53.1000</td>\n",
       "      <td>C123</td>\n",
       "      <td>S</td>\n",
       "    </tr>\n",
       "    <tr>\n",
       "      <th>4</th>\n",
       "      <td>5</td>\n",
       "      <td>0</td>\n",
       "      <td>3</td>\n",
       "      <td>Allen, Mr. William Henry</td>\n",
       "      <td>male</td>\n",
       "      <td>35.0</td>\n",
       "      <td>0</td>\n",
       "      <td>0</td>\n",
       "      <td>373450</td>\n",
       "      <td>8.0500</td>\n",
       "      <td>NaN</td>\n",
       "      <td>S</td>\n",
       "    </tr>\n",
       "  </tbody>\n",
       "</table>\n",
       "</div>"
      ],
      "text/plain": [
       "   PassengerId  Survived  Pclass  \\\n",
       "0            1         0       3   \n",
       "1            2         1       1   \n",
       "2            3         1       3   \n",
       "3            4         1       1   \n",
       "4            5         0       3   \n",
       "\n",
       "                                                Name     Sex   Age  SibSp  \\\n",
       "0                            Braund, Mr. Owen Harris    male  22.0      1   \n",
       "1  Cumings, Mrs. John Bradley (Florence Briggs Th...  female  38.0      1   \n",
       "2                             Heikkinen, Miss. Laina  female  26.0      0   \n",
       "3       Futrelle, Mrs. Jacques Heath (Lily May Peel)  female  35.0      1   \n",
       "4                           Allen, Mr. William Henry    male  35.0      0   \n",
       "\n",
       "   Parch            Ticket     Fare Cabin Embarked  \n",
       "0      0         A/5 21171   7.2500   NaN        S  \n",
       "1      0          PC 17599  71.2833   C85        C  \n",
       "2      0  STON/O2. 3101282   7.9250   NaN        S  \n",
       "3      0            113803  53.1000  C123        S  \n",
       "4      0            373450   8.0500   NaN        S  "
      ]
     },
     "execution_count": 12,
     "metadata": {},
     "output_type": "execute_result"
    }
   ],
   "source": [
    "data.head()"
   ]
  },
  {
   "cell_type": "code",
   "execution_count": 13,
   "metadata": {},
   "outputs": [
    {
     "name": "stdout",
     "output_type": "stream",
     "text": [
      "<class 'pandas.core.frame.DataFrame'>\n",
      "RangeIndex: 891 entries, 0 to 890\n",
      "Data columns (total 12 columns):\n",
      " #   Column       Non-Null Count  Dtype  \n",
      "---  ------       --------------  -----  \n",
      " 0   PassengerId  891 non-null    int64  \n",
      " 1   Survived     891 non-null    int64  \n",
      " 2   Pclass       891 non-null    int64  \n",
      " 3   Name         891 non-null    object \n",
      " 4   Sex          891 non-null    object \n",
      " 5   Age          714 non-null    float64\n",
      " 6   SibSp        891 non-null    int64  \n",
      " 7   Parch        891 non-null    int64  \n",
      " 8   Ticket       891 non-null    object \n",
      " 9   Fare         891 non-null    float64\n",
      " 10  Cabin        204 non-null    object \n",
      " 11  Embarked     889 non-null    object \n",
      "dtypes: float64(2), int64(5), object(5)\n",
      "memory usage: 83.7+ KB\n"
     ]
    }
   ],
   "source": [
    "data.info()"
   ]
  },
  {
   "cell_type": "code",
   "execution_count": 14,
   "metadata": {},
   "outputs": [],
   "source": [
    "data.drop(['Ticket', 'Cabin'], axis=1, inplace=True)"
   ]
  },
  {
   "cell_type": "code",
   "execution_count": 15,
   "metadata": {},
   "outputs": [
    {
     "data": {
      "text/html": [
       "<div>\n",
       "<style scoped>\n",
       "    .dataframe tbody tr th:only-of-type {\n",
       "        vertical-align: middle;\n",
       "    }\n",
       "\n",
       "    .dataframe tbody tr th {\n",
       "        vertical-align: top;\n",
       "    }\n",
       "\n",
       "    .dataframe thead th {\n",
       "        text-align: right;\n",
       "    }\n",
       "</style>\n",
       "<table border=\"1\" class=\"dataframe\">\n",
       "  <thead>\n",
       "    <tr style=\"text-align: right;\">\n",
       "      <th></th>\n",
       "      <th>PassengerId</th>\n",
       "      <th>Survived</th>\n",
       "      <th>Pclass</th>\n",
       "      <th>Name</th>\n",
       "      <th>Sex</th>\n",
       "      <th>Age</th>\n",
       "      <th>SibSp</th>\n",
       "      <th>Parch</th>\n",
       "      <th>Fare</th>\n",
       "      <th>Embarked</th>\n",
       "    </tr>\n",
       "  </thead>\n",
       "  <tbody>\n",
       "    <tr>\n",
       "      <th>0</th>\n",
       "      <td>1</td>\n",
       "      <td>0</td>\n",
       "      <td>3</td>\n",
       "      <td>Braund, Mr. Owen Harris</td>\n",
       "      <td>male</td>\n",
       "      <td>22.0</td>\n",
       "      <td>1</td>\n",
       "      <td>0</td>\n",
       "      <td>7.2500</td>\n",
       "      <td>S</td>\n",
       "    </tr>\n",
       "    <tr>\n",
       "      <th>1</th>\n",
       "      <td>2</td>\n",
       "      <td>1</td>\n",
       "      <td>1</td>\n",
       "      <td>Cumings, Mrs. John Bradley (Florence Briggs Th...</td>\n",
       "      <td>female</td>\n",
       "      <td>38.0</td>\n",
       "      <td>1</td>\n",
       "      <td>0</td>\n",
       "      <td>71.2833</td>\n",
       "      <td>C</td>\n",
       "    </tr>\n",
       "    <tr>\n",
       "      <th>2</th>\n",
       "      <td>3</td>\n",
       "      <td>1</td>\n",
       "      <td>3</td>\n",
       "      <td>Heikkinen, Miss. Laina</td>\n",
       "      <td>female</td>\n",
       "      <td>26.0</td>\n",
       "      <td>0</td>\n",
       "      <td>0</td>\n",
       "      <td>7.9250</td>\n",
       "      <td>S</td>\n",
       "    </tr>\n",
       "    <tr>\n",
       "      <th>3</th>\n",
       "      <td>4</td>\n",
       "      <td>1</td>\n",
       "      <td>1</td>\n",
       "      <td>Futrelle, Mrs. Jacques Heath (Lily May Peel)</td>\n",
       "      <td>female</td>\n",
       "      <td>35.0</td>\n",
       "      <td>1</td>\n",
       "      <td>0</td>\n",
       "      <td>53.1000</td>\n",
       "      <td>S</td>\n",
       "    </tr>\n",
       "    <tr>\n",
       "      <th>4</th>\n",
       "      <td>5</td>\n",
       "      <td>0</td>\n",
       "      <td>3</td>\n",
       "      <td>Allen, Mr. William Henry</td>\n",
       "      <td>male</td>\n",
       "      <td>35.0</td>\n",
       "      <td>0</td>\n",
       "      <td>0</td>\n",
       "      <td>8.0500</td>\n",
       "      <td>S</td>\n",
       "    </tr>\n",
       "  </tbody>\n",
       "</table>\n",
       "</div>"
      ],
      "text/plain": [
       "   PassengerId  Survived  Pclass  \\\n",
       "0            1         0       3   \n",
       "1            2         1       1   \n",
       "2            3         1       3   \n",
       "3            4         1       1   \n",
       "4            5         0       3   \n",
       "\n",
       "                                                Name     Sex   Age  SibSp  \\\n",
       "0                            Braund, Mr. Owen Harris    male  22.0      1   \n",
       "1  Cumings, Mrs. John Bradley (Florence Briggs Th...  female  38.0      1   \n",
       "2                             Heikkinen, Miss. Laina  female  26.0      0   \n",
       "3       Futrelle, Mrs. Jacques Heath (Lily May Peel)  female  35.0      1   \n",
       "4                           Allen, Mr. William Henry    male  35.0      0   \n",
       "\n",
       "   Parch     Fare Embarked  \n",
       "0      0   7.2500        S  \n",
       "1      0  71.2833        C  \n",
       "2      0   7.9250        S  \n",
       "3      0  53.1000        S  \n",
       "4      0   8.0500        S  "
      ]
     },
     "execution_count": 15,
     "metadata": {},
     "output_type": "execute_result"
    }
   ],
   "source": [
    "data.head()"
   ]
  },
  {
   "cell_type": "markdown",
   "metadata": {},
   "source": [
    "name 里面有个title和家族名值得提取，可能会有有用的信息。"
   ]
  },
  {
   "cell_type": "code",
   "execution_count": 16,
   "metadata": {},
   "outputs": [],
   "source": [
    "data['Titles'] = [re.search(r'\\b([A-Za-z]+)\\.', name)[0] for name in data['Name']]\n",
    "data['Family'] = [re.search(r'\\b([A-Za-z]+)\\,', name)[0] for name in data['Name']]"
   ]
  },
  {
   "cell_type": "code",
   "execution_count": 17,
   "metadata": {},
   "outputs": [],
   "source": [
    "#data.drop(['Name'], axis=1, inplace=True)\n",
    "data.drop(['Family', 'Name'], axis=1, inplace=True)"
   ]
  },
  {
   "cell_type": "code",
   "execution_count": 18,
   "metadata": {},
   "outputs": [
    {
     "data": {
      "text/html": [
       "<div>\n",
       "<style scoped>\n",
       "    .dataframe tbody tr th:only-of-type {\n",
       "        vertical-align: middle;\n",
       "    }\n",
       "\n",
       "    .dataframe tbody tr th {\n",
       "        vertical-align: top;\n",
       "    }\n",
       "\n",
       "    .dataframe thead th {\n",
       "        text-align: right;\n",
       "    }\n",
       "</style>\n",
       "<table border=\"1\" class=\"dataframe\">\n",
       "  <thead>\n",
       "    <tr style=\"text-align: right;\">\n",
       "      <th></th>\n",
       "      <th>PassengerId</th>\n",
       "      <th>Survived</th>\n",
       "      <th>Pclass</th>\n",
       "      <th>Sex</th>\n",
       "      <th>Age</th>\n",
       "      <th>SibSp</th>\n",
       "      <th>Parch</th>\n",
       "      <th>Fare</th>\n",
       "      <th>Embarked</th>\n",
       "      <th>Titles</th>\n",
       "    </tr>\n",
       "  </thead>\n",
       "  <tbody>\n",
       "    <tr>\n",
       "      <th>count</th>\n",
       "      <td>891.000000</td>\n",
       "      <td>891.000000</td>\n",
       "      <td>891.000000</td>\n",
       "      <td>891</td>\n",
       "      <td>714.000000</td>\n",
       "      <td>891.000000</td>\n",
       "      <td>891.000000</td>\n",
       "      <td>891.000000</td>\n",
       "      <td>889</td>\n",
       "      <td>891</td>\n",
       "    </tr>\n",
       "    <tr>\n",
       "      <th>unique</th>\n",
       "      <td>NaN</td>\n",
       "      <td>NaN</td>\n",
       "      <td>NaN</td>\n",
       "      <td>2</td>\n",
       "      <td>NaN</td>\n",
       "      <td>NaN</td>\n",
       "      <td>NaN</td>\n",
       "      <td>NaN</td>\n",
       "      <td>3</td>\n",
       "      <td>17</td>\n",
       "    </tr>\n",
       "    <tr>\n",
       "      <th>top</th>\n",
       "      <td>NaN</td>\n",
       "      <td>NaN</td>\n",
       "      <td>NaN</td>\n",
       "      <td>male</td>\n",
       "      <td>NaN</td>\n",
       "      <td>NaN</td>\n",
       "      <td>NaN</td>\n",
       "      <td>NaN</td>\n",
       "      <td>S</td>\n",
       "      <td>Mr.</td>\n",
       "    </tr>\n",
       "    <tr>\n",
       "      <th>freq</th>\n",
       "      <td>NaN</td>\n",
       "      <td>NaN</td>\n",
       "      <td>NaN</td>\n",
       "      <td>577</td>\n",
       "      <td>NaN</td>\n",
       "      <td>NaN</td>\n",
       "      <td>NaN</td>\n",
       "      <td>NaN</td>\n",
       "      <td>644</td>\n",
       "      <td>517</td>\n",
       "    </tr>\n",
       "    <tr>\n",
       "      <th>mean</th>\n",
       "      <td>446.000000</td>\n",
       "      <td>0.383838</td>\n",
       "      <td>2.308642</td>\n",
       "      <td>NaN</td>\n",
       "      <td>29.699118</td>\n",
       "      <td>0.523008</td>\n",
       "      <td>0.381594</td>\n",
       "      <td>32.204208</td>\n",
       "      <td>NaN</td>\n",
       "      <td>NaN</td>\n",
       "    </tr>\n",
       "    <tr>\n",
       "      <th>std</th>\n",
       "      <td>257.353842</td>\n",
       "      <td>0.486592</td>\n",
       "      <td>0.836071</td>\n",
       "      <td>NaN</td>\n",
       "      <td>14.526497</td>\n",
       "      <td>1.102743</td>\n",
       "      <td>0.806057</td>\n",
       "      <td>49.693429</td>\n",
       "      <td>NaN</td>\n",
       "      <td>NaN</td>\n",
       "    </tr>\n",
       "    <tr>\n",
       "      <th>min</th>\n",
       "      <td>1.000000</td>\n",
       "      <td>0.000000</td>\n",
       "      <td>1.000000</td>\n",
       "      <td>NaN</td>\n",
       "      <td>0.420000</td>\n",
       "      <td>0.000000</td>\n",
       "      <td>0.000000</td>\n",
       "      <td>0.000000</td>\n",
       "      <td>NaN</td>\n",
       "      <td>NaN</td>\n",
       "    </tr>\n",
       "    <tr>\n",
       "      <th>25%</th>\n",
       "      <td>223.500000</td>\n",
       "      <td>0.000000</td>\n",
       "      <td>2.000000</td>\n",
       "      <td>NaN</td>\n",
       "      <td>20.125000</td>\n",
       "      <td>0.000000</td>\n",
       "      <td>0.000000</td>\n",
       "      <td>7.910400</td>\n",
       "      <td>NaN</td>\n",
       "      <td>NaN</td>\n",
       "    </tr>\n",
       "    <tr>\n",
       "      <th>50%</th>\n",
       "      <td>446.000000</td>\n",
       "      <td>0.000000</td>\n",
       "      <td>3.000000</td>\n",
       "      <td>NaN</td>\n",
       "      <td>28.000000</td>\n",
       "      <td>0.000000</td>\n",
       "      <td>0.000000</td>\n",
       "      <td>14.454200</td>\n",
       "      <td>NaN</td>\n",
       "      <td>NaN</td>\n",
       "    </tr>\n",
       "    <tr>\n",
       "      <th>75%</th>\n",
       "      <td>668.500000</td>\n",
       "      <td>1.000000</td>\n",
       "      <td>3.000000</td>\n",
       "      <td>NaN</td>\n",
       "      <td>38.000000</td>\n",
       "      <td>1.000000</td>\n",
       "      <td>0.000000</td>\n",
       "      <td>31.000000</td>\n",
       "      <td>NaN</td>\n",
       "      <td>NaN</td>\n",
       "    </tr>\n",
       "    <tr>\n",
       "      <th>max</th>\n",
       "      <td>891.000000</td>\n",
       "      <td>1.000000</td>\n",
       "      <td>3.000000</td>\n",
       "      <td>NaN</td>\n",
       "      <td>80.000000</td>\n",
       "      <td>8.000000</td>\n",
       "      <td>6.000000</td>\n",
       "      <td>512.329200</td>\n",
       "      <td>NaN</td>\n",
       "      <td>NaN</td>\n",
       "    </tr>\n",
       "  </tbody>\n",
       "</table>\n",
       "</div>"
      ],
      "text/plain": [
       "        PassengerId    Survived      Pclass   Sex         Age       SibSp  \\\n",
       "count    891.000000  891.000000  891.000000   891  714.000000  891.000000   \n",
       "unique          NaN         NaN         NaN     2         NaN         NaN   \n",
       "top             NaN         NaN         NaN  male         NaN         NaN   \n",
       "freq            NaN         NaN         NaN   577         NaN         NaN   \n",
       "mean     446.000000    0.383838    2.308642   NaN   29.699118    0.523008   \n",
       "std      257.353842    0.486592    0.836071   NaN   14.526497    1.102743   \n",
       "min        1.000000    0.000000    1.000000   NaN    0.420000    0.000000   \n",
       "25%      223.500000    0.000000    2.000000   NaN   20.125000    0.000000   \n",
       "50%      446.000000    0.000000    3.000000   NaN   28.000000    0.000000   \n",
       "75%      668.500000    1.000000    3.000000   NaN   38.000000    1.000000   \n",
       "max      891.000000    1.000000    3.000000   NaN   80.000000    8.000000   \n",
       "\n",
       "             Parch        Fare Embarked Titles  \n",
       "count   891.000000  891.000000      889    891  \n",
       "unique         NaN         NaN        3     17  \n",
       "top            NaN         NaN        S    Mr.  \n",
       "freq           NaN         NaN      644    517  \n",
       "mean      0.381594   32.204208      NaN    NaN  \n",
       "std       0.806057   49.693429      NaN    NaN  \n",
       "min       0.000000    0.000000      NaN    NaN  \n",
       "25%       0.000000    7.910400      NaN    NaN  \n",
       "50%       0.000000   14.454200      NaN    NaN  \n",
       "75%       0.000000   31.000000      NaN    NaN  \n",
       "max       6.000000  512.329200      NaN    NaN  "
      ]
     },
     "execution_count": 18,
     "metadata": {},
     "output_type": "execute_result"
    }
   ],
   "source": [
    "data.describe(include='all')"
   ]
  },
  {
   "cell_type": "markdown",
   "metadata": {},
   "source": [
    "我们的特征已经处理好了，里面还有些缺失值，先不管\n",
    "编码一下字符特征"
   ]
  },
  {
   "cell_type": "code",
   "execution_count": 19,
   "metadata": {},
   "outputs": [],
   "source": [
    "from sklearn.preprocessing import LabelEncoder, minmax_scale\n",
    "\n",
    "le = LabelEncoder()\n",
    "for str_feature in ['Titles', 'Sex', 'Embarked']:\n",
    "    data[str_feature] = le.fit_transform(data[str_feature])"
   ]
  },
  {
   "cell_type": "code",
   "execution_count": 20,
   "metadata": {},
   "outputs": [
    {
     "data": {
      "text/html": [
       "<div>\n",
       "<style scoped>\n",
       "    .dataframe tbody tr th:only-of-type {\n",
       "        vertical-align: middle;\n",
       "    }\n",
       "\n",
       "    .dataframe tbody tr th {\n",
       "        vertical-align: top;\n",
       "    }\n",
       "\n",
       "    .dataframe thead th {\n",
       "        text-align: right;\n",
       "    }\n",
       "</style>\n",
       "<table border=\"1\" class=\"dataframe\">\n",
       "  <thead>\n",
       "    <tr style=\"text-align: right;\">\n",
       "      <th></th>\n",
       "      <th>PassengerId</th>\n",
       "      <th>Survived</th>\n",
       "      <th>Pclass</th>\n",
       "      <th>Sex</th>\n",
       "      <th>Age</th>\n",
       "      <th>SibSp</th>\n",
       "      <th>Parch</th>\n",
       "      <th>Fare</th>\n",
       "      <th>Embarked</th>\n",
       "      <th>Titles</th>\n",
       "    </tr>\n",
       "  </thead>\n",
       "  <tbody>\n",
       "    <tr>\n",
       "      <th>0</th>\n",
       "      <td>1</td>\n",
       "      <td>0</td>\n",
       "      <td>3</td>\n",
       "      <td>1</td>\n",
       "      <td>22.0</td>\n",
       "      <td>1</td>\n",
       "      <td>0</td>\n",
       "      <td>7.2500</td>\n",
       "      <td>2</td>\n",
       "      <td>12</td>\n",
       "    </tr>\n",
       "    <tr>\n",
       "      <th>1</th>\n",
       "      <td>2</td>\n",
       "      <td>1</td>\n",
       "      <td>1</td>\n",
       "      <td>0</td>\n",
       "      <td>38.0</td>\n",
       "      <td>1</td>\n",
       "      <td>0</td>\n",
       "      <td>71.2833</td>\n",
       "      <td>0</td>\n",
       "      <td>13</td>\n",
       "    </tr>\n",
       "    <tr>\n",
       "      <th>2</th>\n",
       "      <td>3</td>\n",
       "      <td>1</td>\n",
       "      <td>3</td>\n",
       "      <td>0</td>\n",
       "      <td>26.0</td>\n",
       "      <td>0</td>\n",
       "      <td>0</td>\n",
       "      <td>7.9250</td>\n",
       "      <td>2</td>\n",
       "      <td>9</td>\n",
       "    </tr>\n",
       "    <tr>\n",
       "      <th>3</th>\n",
       "      <td>4</td>\n",
       "      <td>1</td>\n",
       "      <td>1</td>\n",
       "      <td>0</td>\n",
       "      <td>35.0</td>\n",
       "      <td>1</td>\n",
       "      <td>0</td>\n",
       "      <td>53.1000</td>\n",
       "      <td>2</td>\n",
       "      <td>13</td>\n",
       "    </tr>\n",
       "    <tr>\n",
       "      <th>4</th>\n",
       "      <td>5</td>\n",
       "      <td>0</td>\n",
       "      <td>3</td>\n",
       "      <td>1</td>\n",
       "      <td>35.0</td>\n",
       "      <td>0</td>\n",
       "      <td>0</td>\n",
       "      <td>8.0500</td>\n",
       "      <td>2</td>\n",
       "      <td>12</td>\n",
       "    </tr>\n",
       "  </tbody>\n",
       "</table>\n",
       "</div>"
      ],
      "text/plain": [
       "   PassengerId  Survived  Pclass  Sex   Age  SibSp  Parch     Fare  Embarked  \\\n",
       "0            1         0       3    1  22.0      1      0   7.2500         2   \n",
       "1            2         1       1    0  38.0      1      0  71.2833         0   \n",
       "2            3         1       3    0  26.0      0      0   7.9250         2   \n",
       "3            4         1       1    0  35.0      1      0  53.1000         2   \n",
       "4            5         0       3    1  35.0      0      0   8.0500         2   \n",
       "\n",
       "   Titles  \n",
       "0      12  \n",
       "1      13  \n",
       "2       9  \n",
       "3      13  \n",
       "4      12  "
      ]
     },
     "execution_count": 20,
     "metadata": {},
     "output_type": "execute_result"
    }
   ],
   "source": [
    "data.head()"
   ]
  },
  {
   "cell_type": "code",
   "execution_count": 21,
   "metadata": {},
   "outputs": [],
   "source": [
    "def data_preprocessing(data):\n",
    "    data.drop(['Ticket', 'Cabin'], axis=1, inplace=True)\n",
    "    data['Titles'] = [re.search(r'\\b([A-Za-z]+)\\.', name)[0] for name in data['Name']]\n",
    "    data.drop(['Name'], axis=1, inplace=True)\n",
    "    \n",
    "    for str_feature in ['Titles', 'Sex', 'Embarked']:\n",
    "        data[str_feature] = le.fit_transform(data[str_feature])\n",
    "        \n",
    "    data.drop(['PassengerId', 'Titles'], axis=1, inplace=True)\n",
    "    data['Age'].fillna(data['Age'].median(), inplace=True)\n",
    "    data['Age'] = minmax_scale(data['Age'])\n",
    "    data['Fare'] = minmax_scale(data['Fare'])\n",
    "    \n",
    "    return data"
   ]
  },
  {
   "cell_type": "markdown",
   "metadata": {},
   "source": [
    "# Train test split"
   ]
  },
  {
   "cell_type": "code",
   "execution_count": 54,
   "metadata": {},
   "outputs": [],
   "source": [
    "from sklearn.model_selection import train_test_split\n",
    "data = pd.read_csv('data/train.csv')\n",
    "test = pd.read_csv('data/test.csv')\n",
    "test_id = test['PassengerId']\n",
    "\n",
    "test = data_preprocessing(test)\n",
    "data = data_preprocessing(data)\n",
    "\n",
    "\n",
    "data_train, data_test = train_test_split(data, test_size=0.2, shuffle=True, random_state=9)\n",
    "\n",
    "x = data.drop(['Survived'], axis=1)\n",
    "y = data['Survived']\n",
    "\n",
    "x_train, x_test = x.loc[data_train.index], x.loc[data_test.index]\n",
    "y_train, y_test = y.loc[data_train.index], y.loc[data_test.index]"
   ]
  },
  {
   "cell_type": "markdown",
   "metadata": {},
   "source": [
    "# Model Training"
   ]
  },
  {
   "cell_type": "markdown",
   "metadata": {},
   "source": [
    "## LGBM"
   ]
  },
  {
   "cell_type": "code",
   "execution_count": 30,
   "metadata": {},
   "outputs": [
    {
     "data": {
      "text/plain": [
       "LGBMClassifier(colsample_bytree=0.7, learning_rate=0.05, min_child_samples=30,\n",
       "               random_state=3333, reg_alpha=0, reg_lambda=0.3, subsample=0.7)"
      ]
     },
     "execution_count": 30,
     "metadata": {},
     "output_type": "execute_result"
    }
   ],
   "source": [
    "from lightgbm import LGBMClassifier\n",
    "params = cv.best_params_\n",
    "lgbm_clf = LGBMClassifier(**params, random_state=3333)\n",
    "lgbm_clf.fit(x_train, y_train)"
   ]
  },
  {
   "cell_type": "code",
   "execution_count": 55,
   "metadata": {},
   "outputs": [
    {
     "data": {
      "text/plain": [
       "(0.8848314606741573, 0.8268156424581006)"
      ]
     },
     "execution_count": 55,
     "metadata": {},
     "output_type": "execute_result"
    }
   ],
   "source": [
    "from sklearn.metrics import accuracy_score, roc_auc_score\n",
    "\n",
    "y_pred = lgbm_clf.predict_proba(x_test)[:,1]>0.5\n",
    "accuracy_score(y_train, lgbm_clf.predict_proba(x_train)[:,1]>0.5), accuracy_score(y_test, y_pred)"
   ]
  },
  {
   "cell_type": "code",
   "execution_count": 34,
   "metadata": {},
   "outputs": [
    {
     "data": {
      "text/plain": [
       "(0.8673871962337963, 0.7716711956521739)"
      ]
     },
     "execution_count": 34,
     "metadata": {},
     "output_type": "execute_result"
    }
   ],
   "source": [
    "roc_auc_score(y_train, lgbm_clf.predict(x_train)), roc_auc_score(y_test, y_pred)"
   ]
  },
  {
   "cell_type": "code",
   "execution_count": 26,
   "metadata": {},
   "outputs": [
    {
     "name": "stdout",
     "output_type": "stream",
     "text": [
      "Fitting 3 folds for each of 810 candidates, totalling 2430 fits\n"
     ]
    },
    {
     "data": {
      "text/plain": [
       "GridSearchCV(cv=3, estimator=LGBMClassifier(), n_jobs=-1,\n",
       "             param_grid={'colsample_bytree': [0.6, 0.7, 0.8],\n",
       "                         'learning_rate': [0.03, 0.05, 0.07],\n",
       "                         'min_child_samples': [30, 50, 70],\n",
       "                         'reg_alpha': [0, 0, 3, 0, 7],\n",
       "                         'reg_lambda': [0, 0.3, 0.7], 'subsample': [0.7, 0.9]},\n",
       "             scoring='roc_auc', verbose=1)"
      ]
     },
     "execution_count": 26,
     "metadata": {},
     "output_type": "execute_result"
    }
   ],
   "source": [
    "## grid search\n",
    "from sklearn.model_selection import GridSearchCV\n",
    "\n",
    "param_grid = {\n",
    "    'learning_rate': [0.03,0.05,0.07],\n",
    "    'min_child_samples': [30,50,70],\n",
    "    'subsample': [0.7, 0.9],\n",
    "    'colsample_bytree': [0.6, 0.7,0.8],\n",
    "    'reg_alpha': [0, 0,3,0,7],\n",
    "    'reg_lambda': [0, 0.3,0.7],\n",
    "}\n",
    "\n",
    "# 创建GridSearchCV对象\n",
    "cv = GridSearchCV(\n",
    "    estimator=LGBMClassifier(),\n",
    "    param_grid=param_grid,\n",
    "    scoring='roc_auc',  # 选择适当的评估指标\n",
    "    cv=3,  # 选择适当的交叉验证折数\n",
    "    n_jobs=-1,\n",
    "    verbose=1,\n",
    ")\n",
    "\n",
    "# 在训练集上拟合GridSearchCV对象\n",
    "cv.fit(x_train, y_train)"
   ]
  },
  {
   "cell_type": "code",
   "execution_count": 29,
   "metadata": {},
   "outputs": [
    {
     "data": {
      "text/plain": [
       "({'colsample_bytree': 0.7,\n",
       "  'learning_rate': 0.05,\n",
       "  'min_child_samples': 30,\n",
       "  'reg_alpha': 0,\n",
       "  'reg_lambda': 0.3,\n",
       "  'subsample': 0.7},\n",
       " 0.8783333654260086)"
      ]
     },
     "execution_count": 29,
     "metadata": {},
     "output_type": "execute_result"
    }
   ],
   "source": [
    "cv.best_params_, cv.best_score_"
   ]
  },
  {
   "cell_type": "markdown",
   "metadata": {},
   "source": [
    "## NN"
   ]
  },
  {
   "cell_type": "code",
   "execution_count": 558,
   "metadata": {},
   "outputs": [
    {
     "data": {
      "text/plain": [
       "('tensorflow', '2.10.0')"
      ]
     },
     "execution_count": 558,
     "metadata": {},
     "output_type": "execute_result"
    }
   ],
   "source": [
    "import tensorflow as tf\n",
    "import keras\n",
    "\n",
    "\n",
    "seed = 42\n",
    "keras.utils.set_random_seed(seed)\n",
    "keras.backend.backend(), keras.__version__"
   ]
  },
  {
   "cell_type": "code",
   "execution_count": 711,
   "metadata": {},
   "outputs": [
    {
     "name": "stdout",
     "output_type": "stream",
     "text": [
      "Model: \"sequential_59\"\n",
      "_________________________________________________________________\n",
      " Layer (type)                Output Shape              Param #   \n",
      "=================================================================\n",
      " dense_232 (Dense)           (None, 12)                96        \n",
      "                                                                 \n",
      " dropout_110 (Dropout)       (None, 12)                0         \n",
      "                                                                 \n",
      " dense_233 (Dense)           (None, 6)                 78        \n",
      "                                                                 \n",
      " dense_234 (Dense)           (None, 1)                 7         \n",
      "                                                                 \n",
      "=================================================================\n",
      "Total params: 181\n",
      "Trainable params: 181\n",
      "Non-trainable params: 0\n",
      "_________________________________________________________________\n"
     ]
    }
   ],
   "source": [
    "input_dim = x.shape[1]\n",
    "\n",
    "nn_clf = keras.Sequential(\n",
    "    [\n",
    "        keras.layers.Input(shape=(input_dim,)),\n",
    "        keras.layers.Dense(12, activation='relu'),\n",
    "        keras.layers.Dropout(0.2),\n",
    "        keras.layers.Dense(6, activation='relu'),\n",
    "        #keras.layers.Dropout(0.2),\n",
    "        #keras.layers.Dense(3, activation='relu'),\n",
    "        keras.layers.Dense(1, activation='sigmoid'),\n",
    "    ]\n",
    ")\n",
    "\n",
    "nn_clf.summary()"
   ]
  },
  {
   "cell_type": "code",
   "execution_count": 712,
   "metadata": {},
   "outputs": [
    {
     "name": "stdout",
     "output_type": "stream",
     "text": [
      "You must install pydot (`pip install pydot`) and install graphviz (see instructions at https://graphviz.gitlab.io/download/) for plot_model to work.\n"
     ]
    }
   ],
   "source": [
    "keras.utils.plot_model(nn_clf, show_layer_activations=True, dpi=100, rankdir=\"LR\")"
   ]
  },
  {
   "cell_type": "code",
   "execution_count": 713,
   "metadata": {},
   "outputs": [],
   "source": [
    "optimzer = keras.optimizers.Adam(learning_rate=0.002)\n",
    "\n",
    "nn_clf.compile(\n",
    "    optimizer = optimzer,\n",
    "    loss = 'binary_crossentropy',\n",
    "    metrics = ['accuracy'],\n",
    ")"
   ]
  },
  {
   "cell_type": "code",
   "execution_count": 714,
   "metadata": {},
   "outputs": [
    {
     "name": "stdout",
     "output_type": "stream",
     "text": [
      "Epoch 1/500\n"
     ]
    },
    {
     "name": "stdout",
     "output_type": "stream",
     "text": [
      "19/19 - 1s - loss: 0.8175 - accuracy: 0.3967 - val_loss: 0.7523 - val_accuracy: 0.3645 - 621ms/epoch - 33ms/step\n",
      "Epoch 2/500\n",
      "19/19 - 0s - loss: 0.6794 - accuracy: 0.5537 - val_loss: 0.6468 - val_accuracy: 0.6262 - 48ms/epoch - 3ms/step\n",
      "Epoch 3/500\n",
      "19/19 - 0s - loss: 0.6214 - accuracy: 0.6430 - val_loss: 0.6159 - val_accuracy: 0.6168 - 46ms/epoch - 2ms/step\n",
      "Epoch 4/500\n",
      "19/19 - 0s - loss: 0.5989 - accuracy: 0.6711 - val_loss: 0.5968 - val_accuracy: 0.6355 - 48ms/epoch - 3ms/step\n",
      "Epoch 5/500\n",
      "19/19 - 0s - loss: 0.5953 - accuracy: 0.6545 - val_loss: 0.5798 - val_accuracy: 0.6822 - 41ms/epoch - 2ms/step\n",
      "Epoch 6/500\n",
      "19/19 - 0s - loss: 0.5707 - accuracy: 0.6959 - val_loss: 0.5625 - val_accuracy: 0.6822 - 46ms/epoch - 2ms/step\n",
      "Epoch 7/500\n",
      "19/19 - 0s - loss: 0.5693 - accuracy: 0.7058 - val_loss: 0.5462 - val_accuracy: 0.6916 - 44ms/epoch - 2ms/step\n",
      "Epoch 8/500\n",
      "19/19 - 0s - loss: 0.5592 - accuracy: 0.7124 - val_loss: 0.5361 - val_accuracy: 0.7009 - 47ms/epoch - 2ms/step\n",
      "Epoch 9/500\n",
      "19/19 - 0s - loss: 0.5397 - accuracy: 0.7256 - val_loss: 0.5273 - val_accuracy: 0.7103 - 46ms/epoch - 2ms/step\n",
      "Epoch 10/500\n",
      "19/19 - 0s - loss: 0.5355 - accuracy: 0.7306 - val_loss: 0.5130 - val_accuracy: 0.7477 - 43ms/epoch - 2ms/step\n",
      "Epoch 11/500\n",
      "19/19 - 0s - loss: 0.5303 - accuracy: 0.7521 - val_loss: 0.5062 - val_accuracy: 0.7477 - 46ms/epoch - 2ms/step\n",
      "Epoch 12/500\n",
      "19/19 - 0s - loss: 0.5344 - accuracy: 0.7488 - val_loss: 0.4973 - val_accuracy: 0.7290 - 40ms/epoch - 2ms/step\n",
      "Epoch 13/500\n",
      "19/19 - 0s - loss: 0.5328 - accuracy: 0.7421 - val_loss: 0.4891 - val_accuracy: 0.7570 - 48ms/epoch - 3ms/step\n",
      "Epoch 14/500\n",
      "19/19 - 0s - loss: 0.5065 - accuracy: 0.7669 - val_loss: 0.4818 - val_accuracy: 0.7850 - 42ms/epoch - 2ms/step\n",
      "Epoch 15/500\n",
      "19/19 - 0s - loss: 0.5082 - accuracy: 0.7736 - val_loss: 0.4757 - val_accuracy: 0.7944 - 58ms/epoch - 3ms/step\n",
      "Epoch 16/500\n",
      "19/19 - 0s - loss: 0.5008 - accuracy: 0.7702 - val_loss: 0.4658 - val_accuracy: 0.7944 - 47ms/epoch - 2ms/step\n",
      "Epoch 17/500\n",
      "19/19 - 0s - loss: 0.5012 - accuracy: 0.7785 - val_loss: 0.4644 - val_accuracy: 0.7944 - 40ms/epoch - 2ms/step\n",
      "Epoch 18/500\n",
      "19/19 - 0s - loss: 0.5005 - accuracy: 0.7818 - val_loss: 0.4648 - val_accuracy: 0.7944 - 43ms/epoch - 2ms/step\n",
      "Epoch 19/500\n",
      "19/19 - 0s - loss: 0.4941 - accuracy: 0.7967 - val_loss: 0.4583 - val_accuracy: 0.7944 - 40ms/epoch - 2ms/step\n",
      "Epoch 20/500\n",
      "19/19 - 0s - loss: 0.5008 - accuracy: 0.8000 - val_loss: 0.4551 - val_accuracy: 0.8037 - 47ms/epoch - 2ms/step\n",
      "Epoch 21/500\n",
      "19/19 - 0s - loss: 0.4732 - accuracy: 0.7884 - val_loss: 0.4524 - val_accuracy: 0.7944 - 52ms/epoch - 3ms/step\n",
      "Epoch 22/500\n",
      "19/19 - 0s - loss: 0.4860 - accuracy: 0.7950 - val_loss: 0.4473 - val_accuracy: 0.8037 - 40ms/epoch - 2ms/step\n",
      "Epoch 23/500\n",
      "19/19 - 0s - loss: 0.4922 - accuracy: 0.7851 - val_loss: 0.4461 - val_accuracy: 0.8037 - 39ms/epoch - 2ms/step\n",
      "Epoch 24/500\n",
      "19/19 - 0s - loss: 0.4738 - accuracy: 0.7950 - val_loss: 0.4416 - val_accuracy: 0.8037 - 45ms/epoch - 2ms/step\n",
      "Epoch 25/500\n",
      "19/19 - 0s - loss: 0.4657 - accuracy: 0.7983 - val_loss: 0.4385 - val_accuracy: 0.8037 - 43ms/epoch - 2ms/step\n",
      "Epoch 26/500\n",
      "19/19 - 0s - loss: 0.4612 - accuracy: 0.8149 - val_loss: 0.4400 - val_accuracy: 0.8037 - 39ms/epoch - 2ms/step\n",
      "Epoch 27/500\n",
      "19/19 - 0s - loss: 0.4755 - accuracy: 0.7901 - val_loss: 0.4401 - val_accuracy: 0.8037 - 39ms/epoch - 2ms/step\n",
      "Epoch 28/500\n",
      "19/19 - 0s - loss: 0.4736 - accuracy: 0.8000 - val_loss: 0.4377 - val_accuracy: 0.8037 - 40ms/epoch - 2ms/step\n",
      "Epoch 29/500\n",
      "19/19 - 0s - loss: 0.4775 - accuracy: 0.7950 - val_loss: 0.4358 - val_accuracy: 0.8037 - 43ms/epoch - 2ms/step\n",
      "Epoch 30/500\n",
      "19/19 - 0s - loss: 0.4638 - accuracy: 0.8099 - val_loss: 0.4352 - val_accuracy: 0.8037 - 47ms/epoch - 2ms/step\n",
      "Epoch 31/500\n",
      "19/19 - 0s - loss: 0.4498 - accuracy: 0.8050 - val_loss: 0.4349 - val_accuracy: 0.7944 - 43ms/epoch - 2ms/step\n",
      "Epoch 32/500\n",
      "19/19 - 0s - loss: 0.4597 - accuracy: 0.8083 - val_loss: 0.4333 - val_accuracy: 0.8037 - 40ms/epoch - 2ms/step\n",
      "Epoch 33/500\n",
      "19/19 - 0s - loss: 0.4645 - accuracy: 0.8033 - val_loss: 0.4320 - val_accuracy: 0.8131 - 42ms/epoch - 2ms/step\n",
      "Epoch 34/500\n",
      "19/19 - 0s - loss: 0.4446 - accuracy: 0.8083 - val_loss: 0.4320 - val_accuracy: 0.8131 - 42ms/epoch - 2ms/step\n",
      "Epoch 35/500\n",
      "19/19 - 0s - loss: 0.4527 - accuracy: 0.7950 - val_loss: 0.4324 - val_accuracy: 0.8131 - 41ms/epoch - 2ms/step\n",
      "Epoch 36/500\n",
      "19/19 - 0s - loss: 0.4549 - accuracy: 0.7950 - val_loss: 0.4305 - val_accuracy: 0.8131 - 41ms/epoch - 2ms/step\n",
      "Epoch 37/500\n",
      "19/19 - 0s - loss: 0.4515 - accuracy: 0.8099 - val_loss: 0.4294 - val_accuracy: 0.8037 - 49ms/epoch - 3ms/step\n",
      "Epoch 38/500\n",
      "19/19 - 0s - loss: 0.4419 - accuracy: 0.8264 - val_loss: 0.4300 - val_accuracy: 0.8131 - 38ms/epoch - 2ms/step\n",
      "Epoch 39/500\n",
      "19/19 - 0s - loss: 0.4354 - accuracy: 0.8215 - val_loss: 0.4309 - val_accuracy: 0.8037 - 40ms/epoch - 2ms/step\n",
      "Epoch 40/500\n",
      "19/19 - 0s - loss: 0.4628 - accuracy: 0.8017 - val_loss: 0.4303 - val_accuracy: 0.8131 - 44ms/epoch - 2ms/step\n",
      "Epoch 41/500\n",
      "19/19 - 0s - loss: 0.4546 - accuracy: 0.8050 - val_loss: 0.4301 - val_accuracy: 0.8131 - 41ms/epoch - 2ms/step\n",
      "Epoch 42/500\n",
      "19/19 - 0s - loss: 0.4244 - accuracy: 0.8149 - val_loss: 0.4303 - val_accuracy: 0.8131 - 68ms/epoch - 4ms/step\n",
      "Epoch 43/500\n",
      "19/19 - 0s - loss: 0.4466 - accuracy: 0.8083 - val_loss: 0.4304 - val_accuracy: 0.8131 - 42ms/epoch - 2ms/step\n",
      "Epoch 44/500\n",
      "19/19 - 0s - loss: 0.4364 - accuracy: 0.8149 - val_loss: 0.4321 - val_accuracy: 0.8037 - 42ms/epoch - 2ms/step\n",
      "Epoch 45/500\n",
      "19/19 - 0s - loss: 0.4473 - accuracy: 0.8083 - val_loss: 0.4293 - val_accuracy: 0.8131 - 45ms/epoch - 2ms/step\n",
      "Epoch 46/500\n",
      "19/19 - 0s - loss: 0.4399 - accuracy: 0.8165 - val_loss: 0.4323 - val_accuracy: 0.8131 - 39ms/epoch - 2ms/step\n",
      "Epoch 47/500\n",
      "19/19 - 0s - loss: 0.4402 - accuracy: 0.8033 - val_loss: 0.4306 - val_accuracy: 0.8131 - 40ms/epoch - 2ms/step\n",
      "Epoch 48/500\n",
      "19/19 - 0s - loss: 0.4275 - accuracy: 0.8132 - val_loss: 0.4300 - val_accuracy: 0.8131 - 41ms/epoch - 2ms/step\n",
      "Epoch 49/500\n",
      "19/19 - 0s - loss: 0.4379 - accuracy: 0.8099 - val_loss: 0.4328 - val_accuracy: 0.8131 - 38ms/epoch - 2ms/step\n",
      "Epoch 50/500\n",
      "19/19 - 0s - loss: 0.4308 - accuracy: 0.8165 - val_loss: 0.4341 - val_accuracy: 0.8131 - 43ms/epoch - 2ms/step\n",
      "Epoch 51/500\n",
      "19/19 - 0s - loss: 0.4262 - accuracy: 0.8198 - val_loss: 0.4332 - val_accuracy: 0.8131 - 39ms/epoch - 2ms/step\n",
      "Epoch 52/500\n",
      "19/19 - 0s - loss: 0.4331 - accuracy: 0.8182 - val_loss: 0.4317 - val_accuracy: 0.8131 - 41ms/epoch - 2ms/step\n",
      "Epoch 53/500\n",
      "19/19 - 0s - loss: 0.4236 - accuracy: 0.8198 - val_loss: 0.4285 - val_accuracy: 0.8131 - 44ms/epoch - 2ms/step\n",
      "Epoch 54/500\n",
      "19/19 - 0s - loss: 0.4368 - accuracy: 0.8132 - val_loss: 0.4310 - val_accuracy: 0.8224 - 40ms/epoch - 2ms/step\n",
      "Epoch 55/500\n",
      "19/19 - 0s - loss: 0.4312 - accuracy: 0.8050 - val_loss: 0.4316 - val_accuracy: 0.8224 - 42ms/epoch - 2ms/step\n",
      "Epoch 56/500\n",
      "19/19 - 0s - loss: 0.4288 - accuracy: 0.8198 - val_loss: 0.4317 - val_accuracy: 0.8224 - 48ms/epoch - 3ms/step\n",
      "Epoch 57/500\n",
      "19/19 - 0s - loss: 0.4224 - accuracy: 0.8198 - val_loss: 0.4276 - val_accuracy: 0.8131 - 42ms/epoch - 2ms/step\n",
      "Epoch 58/500\n",
      "19/19 - 0s - loss: 0.4169 - accuracy: 0.8248 - val_loss: 0.4311 - val_accuracy: 0.8131 - 42ms/epoch - 2ms/step\n",
      "Epoch 59/500\n",
      "19/19 - 0s - loss: 0.4239 - accuracy: 0.8298 - val_loss: 0.4304 - val_accuracy: 0.8131 - 46ms/epoch - 2ms/step\n",
      "Epoch 60/500\n",
      "19/19 - 0s - loss: 0.4304 - accuracy: 0.8182 - val_loss: 0.4311 - val_accuracy: 0.8131 - 43ms/epoch - 2ms/step\n",
      "Epoch 61/500\n",
      "19/19 - 0s - loss: 0.4309 - accuracy: 0.8149 - val_loss: 0.4290 - val_accuracy: 0.8224 - 42ms/epoch - 2ms/step\n",
      "Epoch 62/500\n",
      "19/19 - 0s - loss: 0.4421 - accuracy: 0.8132 - val_loss: 0.4286 - val_accuracy: 0.8131 - 39ms/epoch - 2ms/step\n",
      "Epoch 63/500\n",
      "19/19 - 0s - loss: 0.4364 - accuracy: 0.8182 - val_loss: 0.4288 - val_accuracy: 0.8131 - 42ms/epoch - 2ms/step\n",
      "Epoch 64/500\n",
      "19/19 - 0s - loss: 0.4138 - accuracy: 0.8364 - val_loss: 0.4327 - val_accuracy: 0.8131 - 44ms/epoch - 2ms/step\n",
      "Epoch 65/500\n",
      "19/19 - 0s - loss: 0.4264 - accuracy: 0.8182 - val_loss: 0.4307 - val_accuracy: 0.8131 - 48ms/epoch - 3ms/step\n",
      "Epoch 66/500\n",
      "19/19 - 0s - loss: 0.4254 - accuracy: 0.8298 - val_loss: 0.4327 - val_accuracy: 0.8131 - 40ms/epoch - 2ms/step\n",
      "Epoch 67/500\n",
      "19/19 - 0s - loss: 0.4329 - accuracy: 0.8264 - val_loss: 0.4301 - val_accuracy: 0.8131 - 45ms/epoch - 2ms/step\n",
      "Epoch 68/500\n",
      "19/19 - 0s - loss: 0.4311 - accuracy: 0.8248 - val_loss: 0.4298 - val_accuracy: 0.8131 - 45ms/epoch - 2ms/step\n",
      "Epoch 69/500\n",
      "19/19 - 0s - loss: 0.4155 - accuracy: 0.8248 - val_loss: 0.4345 - val_accuracy: 0.8131 - 41ms/epoch - 2ms/step\n",
      "Epoch 70/500\n",
      "19/19 - 0s - loss: 0.4325 - accuracy: 0.8149 - val_loss: 0.4353 - val_accuracy: 0.8131 - 42ms/epoch - 2ms/step\n",
      "Epoch 71/500\n",
      "19/19 - 0s - loss: 0.4157 - accuracy: 0.8198 - val_loss: 0.4313 - val_accuracy: 0.8131 - 41ms/epoch - 2ms/step\n",
      "Epoch 72/500\n",
      "19/19 - 0s - loss: 0.4313 - accuracy: 0.8198 - val_loss: 0.4336 - val_accuracy: 0.8131 - 54ms/epoch - 3ms/step\n",
      "Epoch 73/500\n",
      "19/19 - 0s - loss: 0.4358 - accuracy: 0.8182 - val_loss: 0.4323 - val_accuracy: 0.8131 - 44ms/epoch - 2ms/step\n",
      "Epoch 74/500\n",
      "19/19 - 0s - loss: 0.4172 - accuracy: 0.8132 - val_loss: 0.4331 - val_accuracy: 0.8131 - 42ms/epoch - 2ms/step\n",
      "Epoch 75/500\n",
      "19/19 - 0s - loss: 0.4271 - accuracy: 0.8215 - val_loss: 0.4315 - val_accuracy: 0.8131 - 46ms/epoch - 2ms/step\n",
      "Epoch 76/500\n",
      "19/19 - 0s - loss: 0.4236 - accuracy: 0.8331 - val_loss: 0.4313 - val_accuracy: 0.8131 - 43ms/epoch - 2ms/step\n",
      "Epoch 77/500\n",
      "Restoring model weights from the end of the best epoch: 57.\n",
      "19/19 - 0s - loss: 0.4180 - accuracy: 0.8182 - val_loss: 0.4354 - val_accuracy: 0.8131 - 49ms/epoch - 3ms/step\n",
      "Epoch 77: early stopping\n"
     ]
    }
   ],
   "source": [
    "my_callbacks = [\n",
    "    keras.callbacks.EarlyStopping(patience=20,verbose=1, restore_best_weights=True),\n",
    "]\n",
    "\n",
    "history = nn_clf.fit(x=x_train, y=y_train, epochs=500, verbose=2, \n",
    "                     validation_split=0.15,\n",
    "                     shuffle=True,\n",
    "                     callbacks=my_callbacks)"
   ]
  },
  {
   "cell_type": "code",
   "execution_count": 715,
   "metadata": {},
   "outputs": [
    {
     "data": {
      "text/plain": [
       "<AxesSubplot:xlabel='epochs', ylabel='loss'>"
      ]
     },
     "execution_count": 715,
     "metadata": {},
     "output_type": "execute_result"
    },
    {
     "data": {
      "image/png": "[encoded data removed]",
      "text/plain": [
       "<Figure size 640x480 with 1 Axes>"
      ]
     },
     "metadata": {},
     "output_type": "display_data"
    }
   ],
   "source": [
    "train_log = pd.DataFrame(history.history)\n",
    "train_log[['loss', 'val_loss']].plot(\n",
    "    xlabel='epochs',\n",
    "    ylabel='loss',\n",
    "    ylim=(0.3,0.6),\n",
    "    grid=True\n",
    ")"
   ]
  },
  {
   "cell_type": "code",
   "execution_count": 716,
   "metadata": {},
   "outputs": [],
   "source": [
    "# 保存一下模型\n",
    "# nn_clf.save('nn_model4.h5')"
   ]
  },
  {
   "cell_type": "code",
   "execution_count": 717,
   "metadata": {},
   "outputs": [
    {
     "name": "stdout",
     "output_type": "stream",
     "text": [
      "6/6 [==============================] - 0s 2ms/step\n"
     ]
    }
   ],
   "source": [
    "y_pred = nn_clf.predict(x_test)"
   ]
  },
  {
   "cell_type": "code",
   "execution_count": 718,
   "metadata": {},
   "outputs": [
    {
     "data": {
      "text/plain": [
       "0.770949720670391"
      ]
     },
     "execution_count": 718,
     "metadata": {},
     "output_type": "execute_result"
    }
   ],
   "source": [
    "proba_gamma = 0.5\n",
    "accuracy_score(y_test, y_pred>proba_gamma)"
   ]
  },
  {
   "cell_type": "code",
   "execution_count": 719,
   "metadata": {},
   "outputs": [
    {
     "data": {
      "text/plain": [
       "0.7551265822784811"
      ]
     },
     "execution_count": 719,
     "metadata": {},
     "output_type": "execute_result"
    }
   ],
   "source": [
    "roc_auc_score(y_test, y_pred>0.5)"
   ]
  },
  {
   "cell_type": "code",
   "execution_count": 720,
   "metadata": {},
   "outputs": [
    {
     "data": {
      "text/plain": [
       "<AxesSubplot:ylabel='Proportion'>"
      ]
     },
     "execution_count": 720,
     "metadata": {},
     "output_type": "execute_result"
    },
    {
     "data": {
      "image/png": "[encoded data removed]",
      "text/plain": [
       "<Figure size 640x480 with 1 Axes>"
      ]
     },
     "metadata": {},
     "output_type": "display_data"
    }
   ],
   "source": [
    "import matplotlib.pyplot as plt \n",
    "import seaborn as sns\n",
    "sns.ecdfplot(y_pred)"
   ]
  },
  {
   "cell_type": "code",
   "execution_count": 311,
   "metadata": {},
   "outputs": [
    {
     "name": "stdout",
     "output_type": "stream",
     "text": [
      "14/14 [==============================] - 0s 2ms/step\n"
     ]
    }
   ],
   "source": [
    "result = nn_clf.predict(test).flatten()\n",
    "result = np.where(result>proba_gamma, 1, 0)\n",
    "result = pd.DataFrame(result, columns=['Survived'])\n",
    "result['PassengerID'] = test_id\n",
    "result.to_csv('result.csv', index=False)"
   ]
  },
  {
   "cell_type": "markdown",
   "metadata": {},
   "source": [
    "# Ensemble"
   ]
  },
  {
   "cell_type": "code",
   "execution_count": 721,
   "metadata": {},
   "outputs": [
    {
     "name": "stdout",
     "output_type": "stream",
     "text": [
      "6/6 [==============================] - 0s 2ms/step\n"
     ]
    }
   ],
   "source": [
    "lgbm_pred = lgbm_clf.predict_proba(x_test)[:,1]\n",
    "nn_pred = nn_clf.predict(x_test).flatten()"
   ]
  },
  {
   "cell_type": "code",
   "execution_count": 722,
   "metadata": {},
   "outputs": [],
   "source": [
    "ensemble_pred = np.where((lgbm_pred + nn_pred) > 0.9, 1, 0)"
   ]
  },
  {
   "cell_type": "code",
   "execution_count": 723,
   "metadata": {},
   "outputs": [
    {
     "data": {
      "text/plain": [
       "0.8212290502793296"
      ]
     },
     "execution_count": 723,
     "metadata": {},
     "output_type": "execute_result"
    }
   ],
   "source": [
    "accuracy_score(y_test, ensemble_pred)"
   ]
  },
  {
   "cell_type": "code",
   "execution_count": 537,
   "metadata": {},
   "outputs": [],
   "source": [
    "result = pd.DataFrame(ensemble_pred, columns=['Survived'])\n",
    "result['PassengerID'] = test_id\n",
    "result.to_csv('result.csv', index=False)"
   ]
  },
  {
   "cell_type": "markdown",
   "metadata": {},
   "source": [
    "# OUTPUT"
   ]
  },
  {
   "cell_type": "code",
   "execution_count": 315,
   "metadata": {},
   "outputs": [],
   "source": [
    "test_result = test.copy()\n",
    "test_result['Survived'] = lgbm_clf.predict(test)\n",
    "test_result = test_result[['PassengerId', 'Survived']]\n",
    "test_result.to_csv('test_result.csv', index=False)"
   ]
  }
 ],
 "metadata": {
  "kernelspec": {
   "display_name": "base",
   "language": "python",
   "name": "python3"
  },
  "language_info": {
   "codemirror_mode": {
    "name": "ipython",
    "version": 3
   },
   "file_extension": ".py",
   "mimetype": "text/x-python",
   "name": "python",
   "nbconvert_exporter": "python",
   "pygments_lexer": "ipython3",
   "version": "3.9.18"
  }
 },
 "nbformat": 4,
 "nbformat_minor": 2
}
